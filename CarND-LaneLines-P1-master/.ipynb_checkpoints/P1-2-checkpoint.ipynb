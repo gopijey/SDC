{
 "cells": [
  {
   "cell_type": "code",
   "execution_count": 3,
   "metadata": {
    "collapsed": true
   },
   "outputs": [],
   "source": [
    "#importing some useful packages\n",
    "import matplotlib.pyplot as plt\n",
    "import matplotlib.image as mpimg\n",
    "import numpy as np\n",
    "import cv2\n",
    "%matplotlib inline\n",
    "\n",
    "import os"
   ]
  },
  {
   "cell_type": "code",
   "execution_count": 151,
   "metadata": {
    "collapsed": true
   },
   "outputs": [],
   "source": [
    "def hough_lines(img, rho, theta, threshold, min_line_len, max_line_gap):\n",
    "    \"\"\"\n",
    "    `img` should be the output of a Canny transform.        \n",
    "    Returns an image with hough lines drawn.\n",
    "    \"\"\"\n",
    "    lines = cv2.HoughLinesP(img, rho, theta, threshold, np.array([]), minLineLength=min_line_len, maxLineGap=max_line_gap)\n",
    "    line_img = np.zeros((img.shape[0], img.shape[1], 3), dtype=np.uint8)\n",
    "    draw_lines(line_img, lines)\n",
    "    return line_img\n",
    "\n",
    "def draw_lines(img, lines, color=[255, 0, 0], thickness=2):\n",
    "    \"\"\"\n",
    "    NOTE: this is the function you might want tof use as a starting point once you want to \n",
    "    average/extrapolate the line segments you detect to map out the full\n",
    "    extent of the lane (going from the result shown in raw-lines-example.mp4\n",
    "    to that shown in P1_example.mp4).  \n",
    "    \n",
    "    Think about things like separating line segments by their \n",
    "    slope ((y2-y1)/(x2-x1)) to decide which segments are part of the left\n",
    "    line vs. the right line.  Then, you can average the position of each of \n",
    "    the lines and extrapolate to the top and bottom of the lane.\n",
    "    \n",
    "    This function draws `lines` with `color` and `thickness`.    \n",
    "    Lines are drawn on the image inplace (mutates the image).\n",
    "    If you want to make the lines semi-transparent, think about combining\n",
    "    this function with the weighted_img() function below\n",
    "    \"\"\"\n",
    "    rX1 = 0\n",
    "    rX2 = 0\n",
    "    rY1 = 0\n",
    "    rY2 =0\n",
    "    rCount = 0\n",
    "    rSlope = 0\n",
    "    \n",
    "    lX1 = 0\n",
    "    lX2 = 0\n",
    "    lY1 = 0\n",
    "    lY2 =0\n",
    "    lCount = 0\n",
    "    lSlope = 0\n",
    "    for line in lines:\n",
    "        for x1,y1,x2,y2 in line:\n",
    "            slope = (y2-y1)/(x2-x1)\n",
    "            \n",
    "            if slope > 0.25:\n",
    "                rX1 += x1\n",
    "                rX2 += x2\n",
    "                rY1 += y1\n",
    "                rY2 += y2\n",
    "                rCount += 1\n",
    "                print ('rslope = ', slope)\n",
    "                rSlope += slope\n",
    "                \n",
    "            if slope < -0.25:\n",
    "                lX1 += x1\n",
    "                lX2 += x2\n",
    "                \n",
    "                lY1 += y1\n",
    "                lY2 += y2\n",
    "                lCount += 1\n",
    "                lSlope += slope\n",
    "                \n",
    "    rX1 = int(rX1/rCount)\n",
    "    rY1 = int(rY1/rCount)\n",
    "    rX2 = int(rX2/rCount)\n",
    "    rY2 = int(rY2/rCount) \n",
    "    rSlope = (rY2-rY1)/(rX2-rX1)\n",
    "    print ('rslope avg : -> ', rSlope/rCount)\n",
    "    \n",
    "    rBottomX = int( rX1+ ((rY1-540)/rSlope)  )\n",
    "    rTopX = int(  rX1+ ((rY1-302)/rSlope)  )\n",
    "    cv2.line(img, (rTopX, 540), (rBottomX, 302), color, thickness)  \n",
    "    cv2.line(img, (rX1, rY1), (rX2, rY2), color, thickness)  \n",
    "    #print ('bottom point -> ',  rBottomX ,', 540' , '  top point -> ', rTopX, ', 302 ' )\n",
    "'''\n",
    "    lX1 = int(lX1/lCount)\n",
    "    lY1 = int(lY1/lCount)\n",
    "    lX2 = int(lX2/lCount)\n",
    "    lY2 = int(lY2/lCount)\n",
    "    lSlope = (lY2-lY1)/(lX2-lX1)\n",
    "    \n",
    "    lBottomX = int(( lX1 + (540-lY1)/lSlope)  )\n",
    "    lTopX = int( (lX1+(302-lY1)/lSlope))\n",
    "    #print (lBottomX , 540)\n",
    "        \n",
    "    cv2.line(img, (lTopX, 302), (lBottomX, 540), color, thickness)  \n",
    "    #cv2.line(img, (lX1, lY1), (lX2, lY2), color, thickness)  \n",
    "'''       \n",
    "def region_of_interest(img, vertices):\n",
    "    \"\"\"\n",
    "    Applies an image mask.\n",
    "    \n",
    "    Only keeps the region of the image defined by the polygon\n",
    "    formed from `vertices`. The rest of the image is set to black.\n",
    "    \"\"\"\n",
    "    #defining a blank mask to start with\n",
    "    mask = np.zeros_like(img)   \n",
    "    \n",
    "    #defining a 3 channel or 1 channel color to fill the mask with depending on the input image\n",
    "    if len(img.shape) > 2:\n",
    "        channel_count = img.shape[2]  # i.e. 3 or 4 depending on your image\n",
    "        ignore_mask_color = (255,) * channel_count\n",
    "    else:\n",
    "        ignore_mask_color = 255\n",
    "        \n",
    "    #filling pixels inside the polygon defined by \"vertices\" with the fill color    \n",
    "    cv2.fillPoly(mask, vertices, ignore_mask_color)\n",
    "    \n",
    "    #returning the image only where mask pixels are nonzero\n",
    "    masked_image = cv2.bitwise_and(img, mask)\n",
    "    return masked_image"
   ]
  },
  {
   "cell_type": "code",
   "execution_count": 152,
   "metadata": {
    "collapsed": false
   },
   "outputs": [
    {
     "name": "stdout",
     "output_type": "stream",
     "text": [
      "This image is: <class 'numpy.ndarray'> with dimesions: (540, 960)\n",
      "(540, 960, 3)\n",
      "rslope =  0.6\n",
      "rslope =  0.590909090909\n",
      "rslope =  0.651315789474\n",
      "rslope =  0.625850340136\n",
      "rslope =  0.596153846154\n",
      "rslope =  0.59375\n",
      "rslope =  0.5\n",
      "rslope =  0.833333333333\n",
      "rslope =  0.428571428571\n",
      "rslope =  0.857142857143\n",
      "rslope =  0.615384615385\n",
      "rslope =  0.4\n",
      "rslope =  0.625\n",
      "rslope =  0.5\n",
      "rslope =  0.529411764706\n",
      "rslope =  0.6\n",
      "rslope =  0.8\n",
      "rslope =  0.588235294118\n",
      "rslope =  0.666666666667\n",
      "rslope =  0.8\n",
      "rslope =  0.6\n",
      "rslope =  0.625\n",
      "rslope =  0.666666666667\n",
      "rslope =  0.6\n",
      "rslope =  0.6\n"
     ]
    },
    {
     "data": {
      "text/plain": [
       "<matplotlib.image.AxesImage at 0x150b382e8>"
      ]
     },
     "execution_count": 152,
     "metadata": {},
     "output_type": "execute_result"
    },
    {
     "data": {
      "image/png": "[encoded data removed]",
      "text/plain": [
       "<matplotlib.figure.Figure at 0x14f863470>"
      ]
     },
     "metadata": {},
     "output_type": "display_data"
    }
   ],
   "source": [
    "# TODO: Build your pipeline that will draw lane lines on the test_images\n",
    "# then save them to the test_images directory.\n",
    "#reading in an image\n",
    "image = mpimg.imread('test_images/solidWhiteRight.jpg')\n",
    "#image = mpimg.imread('../exit-ramp.jpg')\n",
    "color_select = np.copy(image)\n",
    "gray = cv2.cvtColor(color_select, cv2.COLOR_RGB2GRAY)\n",
    "print('This image is:', type(gray), 'with dimesions:', gray.shape)\n",
    "\n",
    "blur_gray = cv2.GaussianBlur(gray, (5, 5), 0)\n",
    "edges = cv2.Canny(blur_gray, 50, 150)\n",
    "\n",
    "imshape = image.shape\n",
    "print (imshape)\n",
    "\n",
    "vertices = np.array([[(140,imshape[0]),(480, 302), (490, 302), (850,imshape[0])]], dtype=np.int32)\n",
    "masked_edges = region_of_interest(edges, vertices)\n",
    "lines_edges = hough_lines(masked_edges, rho=1, theta=np.pi/180, threshold=1, min_line_len=5, max_line_gap=1)\n",
    "\n",
    "plt.figure(1)\n",
    "plt.subplot(221)\n",
    "plt.imshow(masked_edges, cmap='gray')\n",
    "plt.subplot(222)\n",
    "plt.imshow(lines_edges, cmap='gray')\n"
   ]
  },
  {
   "cell_type": "code",
   "execution_count": null,
   "metadata": {
    "collapsed": true
   },
   "outputs": [],
   "source": []
  },
  {
   "cell_type": "code",
   "execution_count": null,
   "metadata": {
    "collapsed": true
   },
   "outputs": [],
   "source": []
  }
 ],
 "metadata": {
  "anaconda-cloud": {},
  "kernelspec": {
   "display_name": "Python [conda env:python3]",
   "language": "python",
   "name": "conda-env-python3-py"
  },
  "language_info": {
   "codemirror_mode": {
    "name": "ipython",
    "version": 3
   },
   "file_extension": ".py",
   "mimetype": "text/x-python",
   "name": "python",
   "nbconvert_exporter": "python",
   "pygments_lexer": "ipython3",
   "version": "3.5.2"
  }
 },
 "nbformat": 4,
 "nbformat_minor": 1
}
