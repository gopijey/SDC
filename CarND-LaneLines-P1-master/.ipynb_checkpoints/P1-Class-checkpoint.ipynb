{
 "cells": [
  {
   "cell_type": "code",
   "execution_count": 1,
   "metadata": {
    "collapsed": false
   },
   "outputs": [],
   "source": [
    "import os\n",
    "import math\n",
    "#importing some useful packages\n",
    "import matplotlib.pyplot as plt\n",
    "import matplotlib.image as mpimg\n",
    "import numpy as np\n",
    "import cv2\n",
    "%matplotlib inline\n",
    "\n",
    "import math\n",
    "\n",
    "def grayscale(img):\n",
    "    \"\"\"Applies the Grayscale transform\n",
    "    This will return an image with only one color channel\n",
    "    but NOTE: to see the returned image as grayscale\n",
    "    (assuming your grayscaled image is called 'gray')\n",
    "    you should call plt.imshow(gray, cmap='gray')\"\"\"\n",
    "    return cv2.cvtColor(img, cv2.COLOR_RGB2GRAY)\n",
    "    # Or use BGR2GRAY if you read an image with cv2.imread()\n",
    "    # return cv2.cvtColor(img, cv2.COLOR_BGR2GRAY)\n",
    "    \n",
    "def canny(img, low_threshold, high_threshold):\n",
    "    \"\"\"Applies the Canny transform\"\"\"\n",
    "    return cv2.Canny(img, low_threshold, high_threshold)\n",
    "\n",
    "def gaussian_blur(img, kernel_size):\n",
    "    \"\"\"Applies a Gaussian Noise kernel\"\"\"\n",
    "    return cv2.GaussianBlur(img, (kernel_size, kernel_size), 0)\n",
    "\n",
    "def region_of_interest(img, vertices):\n",
    "    \"\"\"\n",
    "    Applies an image mask.\n",
    "    \n",
    "    Only keeps the region of the image defined by the polygon\n",
    "    formed from `vertices`. The rest of the image is set to black.\n",
    "    \"\"\"\n",
    "    #defining a blank mask to start with\n",
    "    mask = np.zeros_like(img)   \n",
    "    \n",
    "    #defining a 3 channel or 1 channel color to fill the mask with depending on the input image\n",
    "    if len(img.shape) > 2:\n",
    "        channel_count = img.shape[2]  # i.e. 3 or 4 depending on your image\n",
    "        ignore_mask_color = (255,) * channel_count\n",
    "    else:\n",
    "        ignore_mask_color = 255\n",
    "        \n",
    "    #filling pixels inside the polygon defined by \"vertices\" with the fill color    \n",
    "    cv2.fillPoly(mask, vertices, ignore_mask_color)\n",
    "    \n",
    "    #returning the image only where mask pixels are nonzero\n",
    "    masked_image = cv2.bitwise_and(img, mask)\n",
    "    return masked_image\n",
    "\n",
    "def process_image(image):\n",
    "    # NOTE: The output you return should be a color image (3 channel) for processing video below\n",
    "    # TODO: put your pipeline here,\n",
    "    # you should return the final output (image with lines are drawn on lanes)\n",
    "    \n",
    "    # make a copy\n",
    "    color_select = np.copy(image)\n",
    "    \n",
    "    gray = grayscale(color_select)\n",
    "    # Gaussian Blur\n",
    "    blur_gray = gaussian_blur(gray, 5)\n",
    "    edges = canny(blur_gray, 50, 150)\n",
    "    \n",
    "    imshape = image.shape\n",
    "    vertices = def_vertices(imshape)\n",
    "    masked_edges = region_of_interest(edges, vertices)\n",
    "    lines_edges = hough_lines(masked_edges, rho=1, theta=np.pi/180, threshold=1, min_line_len=5, max_line_gap=1)\n",
    "\n",
    "    result = weighted_img(img=lines_edges, initial_img=image, α=1, β=100., λ=0.)\n",
    "    return result\n",
    "def hough_lines(img, rho, theta, threshold, min_line_len, max_line_gap):\n",
    "    \"\"\"\n",
    "    `img` should be the output of a Canny transform.        \n",
    "    Returns an image with hough lines drawn.\n",
    "    \"\"\"\n",
    "    lines = cv2.HoughLinesP(img, rho, theta, threshold, np.array([]), minLineLength=min_line_len, maxLineGap=max_line_gap)\n",
    "    line_img = np.zeros((img.shape[0], img.shape[1], 3), dtype=np.uint8)\n",
    "    draw_lines(line_img, lines)\n",
    "    return line_img\n",
    "\n",
    "# Python 3 has support for cool math symbols.\n",
    "\n",
    "def weighted_img(img, initial_img, α=0.8, β=1., λ=0.):\n",
    "    \"\"\"\n",
    "    `img` is the output of the hough_lines(), An image with lines drawn on it.\n",
    "    Should be a blank image (all black) with lines drawn on it.\n",
    "    \n",
    "    `initial_img` should be the image before any processing.\n",
    "    \n",
    "    The result image is computed as follows:\n",
    "    \n",
    "    initial_img * α + img * β + λ\n",
    "    NOTE: initial_img and img must be the same shape!\n",
    "    \"\"\"\n",
    "    return cv2.addWeighted(initial_img, α, img, β, λ)"
   ]
  },
  {
   "cell_type": "code",
   "execution_count": 38,
   "metadata": {
    "collapsed": false
   },
   "outputs": [],
   "source": [
    "class Point:\n",
    "    def __init__(self, x=0, y=0):\n",
    "        self.x = x\n",
    "        self.y = y\n",
    "    def __str__(self):\n",
    "        return (\"({0}, {1})\".format(self.x, self.y))\n",
    "    \n",
    "class Line:\n",
    "    def __init__(self, point1 = Point(), point2 = Point()):\n",
    "        self.point1 = point1\n",
    "        self.point2 = point2\n",
    "        if point2.x - point1.x != 0:\n",
    "            self.slope = (point2.y - point1.y)/(point2.x - point1.x)\n",
    "        else:\n",
    "            self.slope = 9999999999.0  # this is not true but lets assume for now....\n",
    "        self.const = point1.y - self.slope * point1.x\n",
    "    \n",
    "    def calcSlope(self):\n",
    "        if point2.x - point1.x != 0:\n",
    "            self.slope = (point2.y - point1.y)/(point2.x - point1.x)\n",
    "        else:\n",
    "            self.slope = 9999999999.0  # this is not true but lets assume for now....\n",
    "        return self.slope\n",
    "\n",
    "    #def calcConst(self):\n",
    "    \n",
    "    def getSlope(self):\n",
    "        return self.slope\n",
    "\n",
    "    def getConst(self):\n",
    "        return self.const\n",
    "\n",
    "    def __str__(self):\n",
    "        return (\"({0} to {1}, Slope={2}, Const={3})\".format(self.point1 , self.point2, self.slope, self.const))\n",
    "    \n",
    "leftListOfLines = []  # a global variable to store previous state of lines.  \n",
    "rightListOfLines = []\n",
    "\n",
    "def def_vertices(imshape):\n",
    "    leftBottom  = Point(int(imshape[1] * 0.10), imshape[0])\n",
    "    leftTop     = Point(int(imshape[1] * 0.47), int(imshape[0] * 0.60))\n",
    "    rightTop    = Point(int(imshape[1] * 0.54), int(imshape[0] * 0.60))\n",
    "    rightBottom = Point(int(imshape[1] * 0.90), imshape[0])\n",
    "    \n",
    "    return np.array([[(leftBottom.x,leftBottom.y),(leftTop.x,leftTop.y),(rightTop.x,rightTop.y),(rightBottom.x, rightBottom.y)]], dtype=np.int32)\n",
    "    #print(str(leftBottom) , str(leftTop) , str(rightTop), str(rightBottom))"
   ]
  },
  {
   "cell_type": "code",
   "execution_count": 54,
   "metadata": {
    "collapsed": false
   },
   "outputs": [],
   "source": [
    "def getAvgLineFromListOfLines(lines):  \n",
    "    #get averages of X1 and X2. \n",
    "    avgX1 = 0\n",
    "    avgX2 = 0\n",
    "    avgY1 = 0\n",
    "    avgY2 = 0    \n",
    "    \n",
    "    numberOfLines = len(lines)\n",
    "    if numberOfLines > 1:\n",
    "        for line in lines:\n",
    "            avgX1 += line.point1.x \n",
    "            avgX2 += line.point2.x\n",
    "            avgY1 += line.point1.y \n",
    "            avgY2 += line.point2.y\n",
    "        \n",
    "        avgX1 = int(avgX1/numberOfLines)\n",
    "        avgX2 = int(avgX2/numberOfLines)\n",
    "        avgY1 = int(avgY1/numberOfLines)\n",
    "        avgY2 = int(avgY2/numberOfLines)        \n",
    "        \n",
    "        avgLine = Line(Point(avgX1,avgY1),Point(avgX2,avgY2))\n",
    "\n",
    "    return avgLine\n",
    "\n",
    "def draw_lines(img, lines, color=[255, 0, 0], thickness=2):\n",
    "    \"\"\"\n",
    "    NOTE: this is the function you might want to use as a starting point once you want to \n",
    "    average/extrapolate the line segments you detect to map out the full\n",
    "    extent of the lane (going from the result shown in raw-lines-example.mp4\n",
    "    to that shown in P1_example.mp4).  \n",
    "    \n",
    "    Think about things like separating line segments by their \n",
    "    slope ((y2-y1)/(x2-x1)) to decide which segments are part of the left\n",
    "    line vs. the right line.  Then, you can average the position of each of \n",
    "    the lines and extrapolate to the top and bottom of the lane.\n",
    "    \n",
    "    This function draws `lines` with `color` and `thickness`.    \n",
    "    Lines are drawn on the image inplace (mutates the image).\n",
    "    If you want to make the lines semi-transparent, think about combining\n",
    "    this function with the weighted_img() function below\n",
    "    \"\"\"\n",
    "    leftLines = []\n",
    "    rightLines = []\n",
    "    \n",
    "    for line in lines:\n",
    "        for x1,y1,x2,y2 in line:\n",
    "            currentLine = Line(Point(x1,y1), Point(x2,y2))\n",
    "            slope = currentLine.getSlope()\n",
    "            const = currentLine.getConst()\n",
    "            if  slope < -0.6:\n",
    "                yBottom = img.shape[0]\n",
    "                xBottom = int((yBottom - const)/slope)\n",
    "                yTop = int(img.shape[0]*.62)\n",
    "                xTop = int((yTop - const)/slope)\n",
    "                \n",
    "                leftLines.append(Line(Point(xTop,yTop), Point(xBottom, yBottom)))\n",
    "                cv2.line(img, (xTop, yTop), (xBottom, yBottom), color, thickness)\n",
    "            \n",
    "    leftAvgLine = getAvgLineFromListOfLines(leftLines)  # get average line from a list of lines of all the left lines     \n",
    "    cv2.line(img, (leftAvgLine.point1.x,leftAvgLine.point1.y), (leftAvgLine.point2.x,leftAvgLine.point2.y), [0, 255, 0], thickness=5)\n",
    "    #lefAvgLine = None"
   ]
  },
  {
   "cell_type": "code",
   "execution_count": 55,
   "metadata": {
    "collapsed": false
   },
   "outputs": [
    {
     "name": "stdout",
     "output_type": "stream",
     "text": [
      "This image is: <class 'numpy.ndarray'> with dimesions: (540, 960)\n",
      "This image is: <class 'numpy.ndarray'> with dimesions: (540, 960)\n"
     ]
    },
    {
     "data": {
      "text/plain": [
       "<matplotlib.image.AxesImage at 0x1200badd8>"
      ]
     },
     "execution_count": 55,
     "metadata": {},
     "output_type": "execute_result"
    },
    {
     "data": {
      "image/png": "[encoded data removed]",
      "text/plain": [
       "<matplotlib.figure.Figure at 0x11ab4d630>"
      ]
     },
     "metadata": {},
     "output_type": "display_data"
    }
   ],
   "source": [
    "# TODO: Build your pipeline that will draw lane lines on the test_images\n",
    "# then save them to the test_images directory.\n",
    "#reading in an image\n",
    "image = mpimg.imread('test_images/solidWhiteRight.jpg')\n",
    "imshape = image.shape\n",
    "#image = mpimg.imread('../exit-ramp.jpg')\n",
    "color_select = np.copy(image)\n",
    "gray = grayscale(color_select)\n",
    "\n",
    "print('This image is:', type(gray), 'with dimesions:', gray.shape)\n",
    "#plt.imshow(image)  # if you wanted to show a single color channel image called 'gray', for example, call as plt.imshow(gray, cmap='gray')\n",
    "\n",
    "blur_gray = gaussian_blur(gray, 5)\n",
    "edges = canny(blur_gray, 50, 150)\n",
    "print('This image is:', type(edges), 'with dimesions:', edges.shape)\n",
    "\n",
    "vertices     = def_vertices(image.shape)\n",
    "masked_edges = region_of_interest(edges, vertices)\n",
    "lines_edges  = hough_lines(masked_edges, rho=1, theta=np.pi/180, threshold=1, min_line_len=5, max_line_gap=1)\n",
    "\n",
    "final_img = weighted_img(img=lines_edges, initial_img=image, α=1, β=100., λ=0.)\n",
    "plt.figure(1)\n",
    "plt.subplot(221)\n",
    "plt.imshow(final_img)\n",
    "plt.subplot(222)\n",
    "plt.imshow(lines_edges)"
   ]
  },
  {
   "cell_type": "code",
   "execution_count": 56,
   "metadata": {
    "collapsed": true
   },
   "outputs": [],
   "source": [
    "# Import everything needed to edit/save/watch video clips\n",
    "from moviepy.editor import VideoFileClip\n",
    "from IPython.display import HTML"
   ]
  },
  {
   "cell_type": "code",
   "execution_count": 57,
   "metadata": {
    "collapsed": false
   },
   "outputs": [
    {
     "name": "stdout",
     "output_type": "stream",
     "text": [
      "[MoviePy] >>>> Building video white.mp4\n",
      "[MoviePy] Writing video white.mp4\n"
     ]
    },
    {
     "name": "stderr",
     "output_type": "stream",
     "text": [
      "100%|█████████▉| 221/222 [00:03<00:00, 73.10it/s]\n"
     ]
    },
    {
     "name": "stdout",
     "output_type": "stream",
     "text": [
      "[MoviePy] Done.\n",
      "[MoviePy] >>>> Video ready: white.mp4 \n",
      "\n",
      "CPU times: user 2.22 s, sys: 962 ms, total: 3.18 s\n",
      "Wall time: 3.45 s\n"
     ]
    }
   ],
   "source": [
    "white_output = 'white.mp4'\n",
    "clip1 = VideoFileClip(\"solidWhiteRight.mp4\")\n",
    "white_clip = clip1.fl_image(process_image) #NOTE: this function expects color images!!\n",
    "%time white_clip.write_videofile(white_output, audio=False)"
   ]
  },
  {
   "cell_type": "code",
   "execution_count": 58,
   "metadata": {
    "collapsed": false
   },
   "outputs": [
    {
     "data": {
      "text/html": [
       "\n",
       "<video width=\"960\" height=\"540\" controls>\n",
       "  <source src=\"white.mp4\">\n",
       "</video>\n"
      ],
      "text/plain": [
       "<IPython.core.display.HTML object>"
      ]
     },
     "execution_count": 58,
     "metadata": {},
     "output_type": "execute_result"
    }
   ],
   "source": [
    "HTML(\"\"\"\n",
    "<video width=\"960\" height=\"540\" controls>\n",
    "  <source src=\"{0}\">\n",
    "</video>\n",
    "\"\"\".format(white_output))"
   ]
  },
  {
   "cell_type": "code",
   "execution_count": null,
   "metadata": {
    "collapsed": true
   },
   "outputs": [],
   "source": []
  },
  {
   "cell_type": "code",
   "execution_count": null,
   "metadata": {
    "collapsed": true
   },
   "outputs": [],
   "source": []
  },
  {
   "cell_type": "code",
   "execution_count": null,
   "metadata": {
    "collapsed": true
   },
   "outputs": [],
   "source": []
  }
 ],
 "metadata": {
  "anaconda-cloud": {},
  "kernelspec": {
   "display_name": "Python [conda env:python3]",
   "language": "python",
   "name": "conda-env-python3-py"
  },
  "language_info": {
   "codemirror_mode": {
    "name": "ipython",
    "version": 3
   },
   "file_extension": ".py",
   "mimetype": "text/x-python",
   "name": "python",
   "nbconvert_exporter": "python",
   "pygments_lexer": "ipython3",
   "version": "3.5.2"
  }
 },
 "nbformat": 4,
 "nbformat_minor": 1
}
