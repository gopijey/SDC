{
 "cells": [
  {
   "cell_type": "markdown",
   "metadata": {},
   "source": [
    "# **Finding Lane Lines on the Road** \n",
    "***\n",
    "In this project, you will use the tools you learned about in the lesson to identify lane lines on the road.  You can develop your pipeline on a series of individual images, and later apply the result to a video stream (really just a series of images). Check out the video clip \"raw-lines-example.mp4\" (also contained in this repository) to see what the output should look like after using the helper functions below. \n",
    "\n",
    "Once you have a result that looks roughly like \"raw-lines-example.mp4\", you'll need to get creative and try to average and/or extrapolate the line segments you've detected to map out the full extent of the lane lines.  You can see an example of the result you're going for in the video \"P1_example.mp4\".  Ultimately, you would like to draw just one line for the left side of the lane, and one for the right.\n",
    "\n",
    "---\n",
    "Let's have a look at our first image called 'test_images/solidWhiteRight.jpg'.  Run the 2 cells below (hit Shift-Enter or the \"play\" button above) to display the image.\n",
    "\n",
    "**Note** If, at any point, you encounter frozen display windows or other confounding issues, you can always start again with a clean slate by going to the \"Kernel\" menu above and selecting \"Restart & Clear Output\".\n",
    "\n",
    "---"
   ]
  },
  {
   "cell_type": "markdown",
   "metadata": {},
   "source": [
    "**The tools you have are color selection, region of interest selection, grayscaling, Gaussian smoothing, Canny Edge Detection and Hough Tranform line detection.  You  are also free to explore and try other techniques that were not presented in the lesson.  Your goal is piece together a pipeline to detect the line segments in the image, then average/extrapolate them and draw them onto the image for display (as below).  Once you have a working pipeline, try it out on the video stream below.**\n",
    "\n",
    "---\n",
    "\n",
    "<figure>\n",
    " <img src=\"line-segments-example.jpg\" width=\"380\" alt=\"Combined Image\" />\n",
    " <figcaption>\n",
    " <p></p> \n",
    " <p style=\"text-align: center;\"> Your output should look something like this (above) after detecting line segments using the helper functions below </p> \n",
    " </figcaption>\n",
    "</figure>\n",
    " <p></p> \n",
    "<figure>\n",
    " <img src=\"laneLines_thirdPass.jpg\" width=\"380\" alt=\"Combined Image\" />\n",
    " <figcaption>\n",
    " <p></p> \n",
    " <p style=\"text-align: center;\"> Your goal is to connect/average/extrapolate line segments to get output like this</p> \n",
    " </figcaption>\n",
    "</figure>"
   ]
  },
  {
   "cell_type": "code",
   "execution_count": 1,
   "metadata": {
    "collapsed": false
   },
   "outputs": [],
   "source": [
    "#importing some useful packages\n",
    "import matplotlib.pyplot as plt\n",
    "import matplotlib.image as mpimg\n",
    "import numpy as np\n",
    "import cv2\n",
    "%matplotlib inline"
   ]
  },
  {
   "cell_type": "markdown",
   "metadata": {},
   "source": [
    "**Some OpenCV functions (beyond those introduced in the lesson) that might be useful for this project are:**\n",
    "\n",
    "`cv2.inRange()` for color selection  \n",
    "`cv2.fillPoly()` for regions selection  \n",
    "`cv2.line()` to draw lines on an image given endpoints  \n",
    "`cv2.addWeighted()` to coadd / overlay two images\n",
    "`cv2.cvtColor()` to grayscale or change color\n",
    "`cv2.imwrite()` to output images to file  \n",
    "`cv2.bitwise_and()` to apply a mask to an image\n",
    "\n",
    "**Check out the OpenCV documentation to learn about these and discover even more awesome functionality!**"
   ]
  },
  {
   "cell_type": "markdown",
   "metadata": {},
   "source": [
    "Below are some helper functions to help get you started. They should look familiar from the lesson!"
   ]
  },
  {
   "cell_type": "code",
   "execution_count": 2,
   "metadata": {
    "collapsed": false
   },
   "outputs": [],
   "source": [
    "import math\n",
    "\n",
    "def grayscale(img):\n",
    "    \"\"\"Applies the Grayscale transform\n",
    "    This will return an image with only one color channel\n",
    "    but NOTE: to see the returned image as grayscale\n",
    "    (assuming your grayscaled image is called 'gray')\n",
    "    you should call plt.imshow(gray, cmap='gray')\"\"\"\n",
    "    return cv2.cvtColor(img, cv2.COLOR_RGB2GRAY)\n",
    "    # Or use BGR2GRAY if you read an image with cv2.imread()\n",
    "    # return cv2.cvtColor(img, cv2.COLOR_BGR2GRAY)\n",
    "    \n",
    "def canny(img, low_threshold, high_threshold):\n",
    "    \"\"\"Applies the Canny transform\"\"\"\n",
    "    return cv2.Canny(img, low_threshold, high_threshold)\n",
    "\n",
    "def gaussian_blur(img, kernel_size):\n",
    "    \"\"\"Applies a Gaussian Noise kernel\"\"\"\n",
    "    return cv2.GaussianBlur(img, (kernel_size, kernel_size), 0)\n",
    "\n",
    "def region_of_interest(img, vertices):\n",
    "    \"\"\"\n",
    "    Applies an image mask.\n",
    "    \n",
    "    Only keeps the region of the image defined by the polygon\n",
    "    formed from `vertices`. The rest of the image is set to black.\n",
    "    \"\"\"\n",
    "    #defining a blank mask to start with\n",
    "    mask = np.zeros_like(img)   \n",
    "    \n",
    "    #defining a 3 channel or 1 channel color to fill the mask with depending on the input image\n",
    "    if len(img.shape) > 2:\n",
    "        channel_count = img.shape[2]  # i.e. 3 or 4 depending on your image\n",
    "        ignore_mask_color = (255,) * channel_count\n",
    "    else:\n",
    "        ignore_mask_color = 255\n",
    "        \n",
    "    #filling pixels inside the polygon defined by \"vertices\" with the fill color    \n",
    "    cv2.fillPoly(mask, vertices, ignore_mask_color)\n",
    "    \n",
    "    #returning the image only where mask pixels are nonzero\n",
    "    masked_image = cv2.bitwise_and(img, mask)\n",
    "    return masked_image\n",
    "\n",
    "def draw_lines(img, lines, color=[255, 0, 0], thickness=2):\n",
    "    \"\"\"\n",
    "    NOTE: this is the function you might want tof use as a starting point once you want to \n",
    "    average/extrapolate the line segments you detect to map out the full\n",
    "    extent of the lane (going from the result shown in raw-lines-example.mp4\n",
    "    to that shown in P1_example.mp4).  \n",
    "    \n",
    "    Think about things like separating line segments by their \n",
    "    slope ((y2-y1)/(x2-x1)) to decide which segments are part of the left\n",
    "    line vs. the right line.  Then, you can average the position of each of \n",
    "    the lines and extrapolate to the top and bottom of the lane.\n",
    "    \n",
    "    This function draws `lines` with `color` and `thickness`.    \n",
    "    Lines are drawn on the image inplace (mutates the image).\n",
    "    If you want to make the lines semi-transparent, think about combining\n",
    "    this function with the weighted_img() function below\n",
    "    \"\"\"\n",
    "    rX1 = 0\n",
    "    rX2 = 0\n",
    "    rY1 = 0\n",
    "    rY2 =0\n",
    "    rCount = 0\n",
    "    rSlope = 0\n",
    "    \n",
    "    lX1 = 0\n",
    "    lX2 = 0\n",
    "    lY1 = 0\n",
    "    lY2 =0\n",
    "    lCount = 0\n",
    "    lSlope = 0\n",
    "    for line in lines:\n",
    "        for x1,y1,x2,y2 in line:\n",
    "            slope = (y2-y1)/(x2-x1)\n",
    "            \n",
    "            if slope > 0.25:\n",
    "                rX1 += x1\n",
    "                rX2 += x2\n",
    "                rY1 += y1\n",
    "                rY2 += y2\n",
    "                rCount += 1\n",
    "                #print ('rslope = ', slope)\n",
    "                rSlope += slope    \n",
    "            if slope < -0.25:\n",
    "                lX1 += x1\n",
    "                lX2 += x2\n",
    "                \n",
    "                lY1 += y1\n",
    "                lY2 += y2\n",
    "                lCount += 1\n",
    "                lSlope += slope\n",
    "                \n",
    "    rX1 = int(rX1/rCount)\n",
    "    rY1 = int(rY1/rCount)\n",
    "    rX2 = int(rX2/rCount)\n",
    "    rY2 = int(rY2/rCount) \n",
    "    print (rX1, rY1, ', ', rX2, rY2)\n",
    "    #print ('rslope avg : -> ', rSlope/rCount)\n",
    "    \n",
    "    rSlope = (rY2-rY1)/(rX2-rX1)\n",
    "    #print ('rslope cal : -> ', rSlope)\n",
    "    \n",
    "    \n",
    "    rBottomX = int( rX1+ ((540-rY1)/rSlope)  )\n",
    "    rTopX = int(  rX1+ ((302-rY1)/rSlope)  )\n",
    "    \n",
    "    print(\"right BottomX -> \" , rBottomX, 540, \",\", rX1, rY1)\n",
    "    \n",
    "    cv2.line(img, (rBottomX, 540), (rTopX, 302), color, thickness)  \n",
    "    cv2.line(img, (rX1, rY1), (rX2, rY2), color, thickness)  \n",
    "    #print ('bottom point -> ',  rBottomX ,', 540' , '  top point -> ', rTopX, ', 302 ' )\n",
    "\n",
    "    lX1 = int(lX1/lCount)\n",
    "    lY1 = int(lY1/lCount)\n",
    "    lX2 = int(lX2/lCount)\n",
    "    lY2 = int(lY2/lCount)\n",
    "    lSlope = (lY2-lY1)/(lX2-lX1)\n",
    "    \n",
    "    lBottomX = int(( lX1 + (540-lY1)/lSlope)  )\n",
    "    lTopX = int( (lX1+(302-lY1)/lSlope))\n",
    "    #print (lBottomX , 540)\n",
    "        \n",
    "    cv2.line(img, (lTopX, 302), (lBottomX, 540), color, thickness)  \n",
    "    #cv2.line(img, (lX1, lY1), (lX2, lY2), color, thickness)  \n",
    "\n",
    "def hough_lines(img, rho, theta, threshold, min_line_len, max_line_gap):\n",
    "    \"\"\"\n",
    "    `img` should be the output of a Canny transform.        \n",
    "    Returns an image with hough lines drawn.\n",
    "    \"\"\"\n",
    "    lines = cv2.HoughLinesP(img, rho, theta, threshold, np.array([]), minLineLength=min_line_len, maxLineGap=max_line_gap)\n",
    "    line_img = np.zeros((img.shape[0], img.shape[1], 3), dtype=np.uint8)\n",
    "    draw_lines(line_img, lines)\n",
    "    return line_img\n",
    "\n",
    "# Python 3 has support for cool math symbols.\n",
    "\n",
    "def weighted_img(img, initial_img, α=0.8, β=1., λ=0.):\n",
    "    \"\"\"\n",
    "    `img` is the output of the hough_lines(), An image with lines drawn on it.\n",
    "    Should be a blank image (all black) with lines drawn on it.\n",
    "    \n",
    "    `initial_img` should be the image before any processing.\n",
    "    \n",
    "    The result image is computed as follows:\n",
    "    \n",
    "    initial_img * α + img * β + λ\n",
    "    NOTE: initial_img and img must be the same shape!\n",
    "    \"\"\"\n",
    "    return cv2.addWeighted(initial_img, α, img, β, λ)"
   ]
  },
  {
   "cell_type": "markdown",
   "metadata": {},
   "source": [
    "## Test on Images\n",
    "\n",
    "Now you should build your pipeline to work on the images in the directory \"test_images\"  \n",
    "**You should make sure your pipeline works well on these images before you try the videos.**"
   ]
  },
  {
   "cell_type": "code",
   "execution_count": 3,
   "metadata": {
    "collapsed": false
   },
   "outputs": [
    {
     "data": {
      "text/plain": [
       "['solidWhiteCurve.jpg',\n",
       " 'solidWhiteRight.jpg',\n",
       " 'solidYellowCurve.jpg',\n",
       " 'solidYellowCurve2.jpg',\n",
       " 'solidYellowLeft.jpg',\n",
       " 'whiteCarLaneSwitch.jpg']"
      ]
     },
     "execution_count": 3,
     "metadata": {},
     "output_type": "execute_result"
    }
   ],
   "source": [
    "import os\n",
    "os.listdir(\"test_images/\")"
   ]
  },
  {
   "cell_type": "markdown",
   "metadata": {},
   "source": [
    "run your solution on all test_images and make copies into the test_images directory)."
   ]
  },
  {
   "cell_type": "code",
   "execution_count": 12,
   "metadata": {
    "collapsed": false
   },
   "outputs": [
    {
     "name": "stdout",
     "output_type": "stream",
     "text": [
      "This image is: <class 'numpy.ndarray'> with dimesions: (540, 960)\n",
      "This image is: <class 'numpy.ndarray'> with dimesions: (540, 960)\n",
      "593 380 ,  606 388\n",
      "right BottomX ->  853 540 , 593 380\n"
     ]
    },
    {
     "data": {
      "text/plain": [
       "<matplotlib.image.AxesImage at 0x10fb082e8>"
      ]
     },
     "execution_count": 12,
     "metadata": {},
     "output_type": "execute_result"
    },
    {
     "data": {
      "image/png": "[encoded data removed]",
      "text/plain": [
       "<matplotlib.figure.Figure at 0x11a863320>"
      ]
     },
     "metadata": {},
     "output_type": "display_data"
    }
   ],
   "source": [
    "# TODO: Build your pipeline that will draw lane lines on the test_images\n",
    "# then save them to the test_images directory.\n",
    "#reading in an image\n",
    "image = mpimg.imread('test_images/solidWhiteRight.jpg')\n",
    "#image = mpimg.imread('../exit-ramp.jpg')\n",
    "color_select = np.copy(image)\n",
    "gray = grayscale(color_select)\n",
    "\n",
    "print('This image is:', type(gray), 'with dimesions:', gray.shape)\n",
    "#plt.imshow(image)  # if you wanted to show a single color channel image called 'gray', for example, call as plt.imshow(gray, cmap='gray')\n",
    "\n",
    "blur_gray = gaussian_blur(gray, 5)\n",
    "edges = canny(blur_gray, 50, 150)\n",
    "print('This image is:', type(edges), 'with dimesions:', edges.shape)\n",
    "\n",
    "imshape = image.shape\n",
    "vertices = np.array([[(140,imshape[0]),(480, 310), (490, 310), (850,imshape[0])]], dtype=np.int32)\n",
    "masked_edges = region_of_interest(edges, vertices)\n",
    "lines_edges = hough_lines(masked_edges, rho=1, theta=np.pi/180, threshold=1, min_line_len=5, max_line_gap=1)\n",
    "\n",
    "final_img = weighted_img(img=lines_edges, initial_img=image, α=1, β=100., λ=0.)\n",
    "plt.figure(1)\n",
    "plt.subplot(221)\n",
    "plt.imshow(final_img)\n",
    "plt.subplot(222)\n",
    "plt.imshow(lines_edges)"
   ]
  },
  {
   "cell_type": "markdown",
   "metadata": {},
   "source": [
    "##### Test on Videos\n",
    "\n",
    "You know what's cooler than drawing lanes over images? Drawing lanes over video!\n",
    "\n",
    "We can test our solution on two provided videos:\n",
    "\n",
    "`solidWhiteRight.mp4`\n",
    "\n",
    "`solidYellowLeft.mp4`"
   ]
  },
  {
   "cell_type": "code",
   "execution_count": 5,
   "metadata": {
    "collapsed": true
   },
   "outputs": [],
   "source": [
    "# Import everything needed to edit/save/watch video clips\n",
    "from moviepy.editor import VideoFileClip\n",
    "from IPython.display import HTML"
   ]
  },
  {
   "cell_type": "code",
   "execution_count": 6,
   "metadata": {
    "collapsed": true
   },
   "outputs": [],
   "source": [
    "def process_image(image):\n",
    "    # NOTE: The output you return should be a color image (3 channel) for processing video below\n",
    "    # TODO: put your pipeline here,\n",
    "    # you should return the final output (image with lines are drawn on lanes)\n",
    "    \n",
    "    # make a copy\n",
    "    color_select = np.copy(image)\n",
    "    \n",
    "    gray = grayscale(color_select)\n",
    "    # Gaussian Blur\n",
    "    blur_gray = gaussian_blur(gray, 5)\n",
    "    edges = canny(blur_gray, 50, 150)\n",
    "    \n",
    "    imshape = image.shape\n",
    "    vertices = np.array([[(140,imshape[0]),(480, 300), (490, 300), (890,imshape[0])]], dtype=np.int32)\n",
    "    masked_edges = region_of_interest(edges, vertices)\n",
    "    lines_edges = hough_lines(masked_edges, rho=1, theta=np.pi/180, threshold=1, min_line_len=5, max_line_gap=1)\n",
    "\n",
    "    result = weighted_img(img=lines_edges, initial_img=image, α=1, β=100., λ=0.)\n",
    "    return result"
   ]
  },
  {
   "cell_type": "markdown",
   "metadata": {},
   "source": [
    "Let's try the one with the solid white lane on the right first ..."
   ]
  },
  {
   "cell_type": "code",
   "execution_count": 13,
   "metadata": {
    "collapsed": false
   },
   "outputs": [
    {
     "name": "stdout",
     "output_type": "stream",
     "text": [
      "624 393 ,  652 411\n",
      "right BottomX ->  852 540 , 624 393\n",
      "[MoviePy] >>>> Building video white.mp4\n",
      "[MoviePy] Writing video white.mp4\n"
     ]
    },
    {
     "name": "stderr",
     "output_type": "stream",
     "text": [
      "\n",
      "  0%|          | 0/222 [00:00<?, ?it/s]\u001b[A\n",
      "  4%|▍         | 9/222 [00:00<00:02, 88.70it/s]"
     ]
    },
    {
     "name": "stdout",
     "output_type": "stream",
     "text": [
      "624 393 ,  652 411\n",
      "right BottomX ->  852 540 , 624 393\n",
      "680 429 ,  691 435\n",
      "right BottomX ->  883 540 , 680 429\n",
      "748 473 ,  781 492\n",
      "right BottomX ->  864 540 , 748 473\n",
      "627 396 ,  646 407\n",
      "right BottomX ->  875 540 , 627 396\n",
      "680 428 ,  691 434\n",
      "right BottomX ->  885 540 , 680 428\n",
      "673 424 ,  685 431\n",
      "right BottomX ->  871 540 , 673 424\n",
      "650 410 ,  667 419\n",
      "right BottomX ->  895 540 , 650 410\n",
      "670 421 ,  682 428\n",
      "right BottomX ->  874 540 , 670 421\n",
      "667 420 ,  678 426\n",
      "right BottomX ->  887 540 , 667 420\n",
      "646 408 ,  666 420\n",
      "right BottomX ->  866 540 , 646 408\n",
      "635 405 ,  654 416\n",
      "right BottomX ->  868 540 , 635 405\n",
      "679 435 ,  692 443\n",
      "right BottomX ->  849 540 , 679 435\n",
      "679 436 ,  696 446\n",
      "right BottomX ->  855 540 , 679 436\n",
      "637 407 ,  654 417\n",
      "right BottomX ->  863 540 , 637 407\n",
      "661 420 ,  671 426\n",
      "right BottomX ->  861 540 , 661 420\n",
      "670 426 ,  687 437\n",
      "right BottomX ->  846 540 , 670 426\n",
      "641 405 ,  657 415\n",
      "right BottomX ->  857 540 , 641 405\n",
      "672 429 ,  718 458\n",
      "right BottomX ->  848 540 , 672 429\n"
     ]
    },
    {
     "name": "stderr",
     "output_type": "stream",
     "text": [
      "\u001b[A\n",
      "  9%|▉         | 20/222 [00:00<00:02, 92.33it/s]"
     ]
    },
    {
     "name": "stdout",
     "output_type": "stream",
     "text": [
      "655 416 ,  671 425\n",
      "right BottomX ->  875 540 , 655 416\n",
      "639 407 ,  653 415\n",
      "right BottomX ->  871 540 , 639 407\n"
     ]
    },
    {
     "name": "stderr",
     "output_type": "stream",
     "text": [
      "\u001b[A\n",
      " 14%|█▎        | 30/222 [00:00<00:02, 93.20it/s]"
     ]
    },
    {
     "name": "stdout",
     "output_type": "stream",
     "text": [
      "664 425 ,  679 434\n",
      "right BottomX ->  855 540 , 664 425\n",
      "671 427 ,  693 441\n",
      "right BottomX ->  848 540 , 671 427\n",
      "689 440 ,  705 449\n",
      "right BottomX ->  866 540 , 689 440\n",
      "671 428 ,  682 434\n",
      "right BottomX ->  876 540 , 671 428\n",
      "658 420 ,  668 425\n",
      "right BottomX ->  898 540 , 658 420\n",
      "657 419 ,  671 427\n",
      "right BottomX ->  868 540 , 657 419\n",
      "654 417 ,  664 423\n",
      "right BottomX ->  859 540 , 654 417\n",
      "672 427 ,  684 435\n",
      "right BottomX ->  841 540 , 672 427\n",
      "671 427 ,  689 438\n",
      "right BottomX ->  855 540 , 671 427\n",
      "644 409 ,  657 417\n",
      "right BottomX ->  856 540 , 644 409\n",
      "651 416 ,  674 430\n",
      "right BottomX ->  854 540 , 651 416\n",
      "691 440 ,  710 451\n",
      "right BottomX ->  863 540 , 691 440\n",
      "631 400 ,  646 410\n",
      "right BottomX ->  841 540 , 631 400\n",
      "697 443 ,  711 451\n",
      "right BottomX ->  866 540 , 697 443\n",
      "598 380 ,  626 397\n",
      "right BottomX ->  861 540 , 598 380\n",
      "654 418 ,  669 427\n",
      "right BottomX ->  857 540 , 654 418\n",
      "660 421 ,  671 428\n",
      "right BottomX ->  847 540 , 660 421\n",
      "667 426 ,  677 432\n",
      "right BottomX ->  857 540 , 667 426\n"
     ]
    },
    {
     "name": "stderr",
     "output_type": "stream",
     "text": [
      "\u001b[A\n",
      " 18%|█▊        | 40/222 [00:00<00:01, 94.35it/s]"
     ]
    },
    {
     "name": "stdout",
     "output_type": "stream",
     "text": [
      "704 449 ,  726 462\n",
      "right BottomX ->  858 540 , 704 449\n",
      "669 427 ,  686 438\n",
      "right BottomX ->  843 540 , 669 427\n"
     ]
    },
    {
     "name": "stderr",
     "output_type": "stream",
     "text": [
      "\u001b[A\n",
      " 22%|██▏       | 48/222 [00:00<00:02, 76.82it/s]"
     ]
    },
    {
     "name": "stdout",
     "output_type": "stream",
     "text": [
      "654 416 ,  665 423\n",
      "right BottomX ->  848 540 , 654 416\n",
      "642 409 ,  661 420\n",
      "right BottomX ->  868 540 , 642 409\n",
      "673 429 ,  688 438\n",
      "right BottomX ->  858 540 , 673 429\n",
      "630 400 ,  644 408\n",
      "right BottomX ->  875 540 , 630 400\n",
      "703 448 ,  716 456\n",
      "right BottomX ->  852 540 , 703 448\n",
      "669 425 ,  681 432\n",
      "right BottomX ->  866 540 , 669 425\n",
      "662 423 ,  680 435\n",
      "right BottomX ->  837 540 , 662 423\n",
      "636 405 ,  658 420\n",
      "right BottomX ->  834 540 , 636 405\n",
      "641 409 ,  660 421\n",
      "right BottomX ->  848 540 , 641 409\n",
      "633 401 ,  656 415\n",
      "right BottomX ->  861 540 , 633 401\n",
      "622 395 ,  641 407\n",
      "right BottomX ->  851 540 , 622 395\n"
     ]
    },
    {
     "name": "stderr",
     "output_type": "stream",
     "text": [
      "\u001b[A"
     ]
    },
    {
     "name": "stdout",
     "output_type": "stream",
     "text": [
      "654 416 ,  666 424\n",
      "right BottomX ->  840 540 , 654 416\n",
      "638 406 ,  657 418\n",
      "right BottomX ->  850 540 , 638 406\n"
     ]
    },
    {
     "name": "stderr",
     "output_type": "stream",
     "text": [
      "\n",
      " 25%|██▌       | 56/222 [00:00<00:02, 75.74it/s]\u001b[A\n",
      " 28%|██▊       | 63/222 [00:00<00:02, 71.55it/s]"
     ]
    },
    {
     "name": "stdout",
     "output_type": "stream",
     "text": [
      "655 419 ,  675 431\n",
      "right BottomX ->  856 540 , 655 419\n",
      "646 410 ,  665 422\n",
      "right BottomX ->  851 540 , 646 410\n",
      "632 402 ,  651 415\n",
      "right BottomX ->  833 540 , 632 402\n",
      "630 402 ,  648 414\n",
      "right BottomX ->  837 540 , 630 402\n",
      "687 441 ,  700 449\n",
      "right BottomX ->  847 540 , 687 441\n",
      "661 422 ,  678 434\n",
      "right BottomX ->  828 540 , 661 422\n",
      "611 390 ,  648 414\n",
      "right BottomX ->  842 540 , 611 390\n",
      "641 413 ,  656 422\n",
      "right BottomX ->  852 540 , 641 413\n",
      "690 444 ,  707 454\n",
      "right BottomX ->  853 540 , 690 444\n",
      "686 441 ,  698 449\n",
      "right BottomX ->  834 540 , 686 441\n",
      "676 435 ,  690 444\n",
      "right BottomX ->  839 540 , 676 435\n",
      "647 419 ,  669 433\n",
      "right BottomX ->  837 540 , 647 419\n",
      "618 397 ,  645 415\n",
      "right BottomX ->  832 540 , 618 397\n"
     ]
    },
    {
     "name": "stderr",
     "output_type": "stream",
     "text": [
      "\u001b[A\n",
      " 32%|███▏      | 70/222 [00:00<00:02, 65.90it/s]\u001b[A\n",
      " 35%|███▍      | 77/222 [00:01<00:02, 65.43it/s]"
     ]
    },
    {
     "name": "stdout",
     "output_type": "stream",
     "text": [
      "684 439 ,  704 452\n",
      "right BottomX ->  839 540 , 684 439\n",
      "664 426 ,  676 434\n",
      "right BottomX ->  835 540 , 664 426\n",
      "639 411 ,  670 431\n",
      "right BottomX ->  838 540 , 639 411\n",
      "642 413 ,  658 423\n",
      "right BottomX ->  845 540 , 642 413\n",
      "640 411 ,  653 419\n",
      "right BottomX ->  849 540 , 640 411\n",
      "600 384 ,  643 413\n",
      "right BottomX ->  831 540 , 600 384\n",
      "600 384 ,  637 409\n",
      "right BottomX ->  830 540 , 600 384\n",
      "667 430 ,  678 437\n",
      "right BottomX ->  839 540 , 667 430\n",
      "645 417 ,  656 424\n",
      "right BottomX ->  838 540 , 645 417\n",
      "617 398 ,  630 406\n",
      "right BottomX ->  847 540 , 617 398\n",
      "626 403 ,  640 412\n",
      "right BottomX ->  839 540 , 626 403\n",
      "656 424 ,  666 430\n",
      "right BottomX ->  849 540 , 656 424\n",
      "634 409 ,  646 416\n",
      "right BottomX ->  858 540 , 634 409\n"
     ]
    },
    {
     "name": "stderr",
     "output_type": "stream",
     "text": [
      "\u001b[A\n",
      " 38%|███▊      | 84/222 [00:01<00:02, 60.15it/s]\u001b[A"
     ]
    },
    {
     "name": "stdout",
     "output_type": "stream",
     "text": [
      "640 414 ,  651 421\n",
      "right BottomX ->  838 540 , 640 414\n",
      "648 420 ,  660 427\n",
      "right BottomX ->  853 540 , 648 420\n",
      "629 408 ,  645 418\n",
      "right BottomX ->  840 540 , 629 408\n",
      "650 428 ,  679 448\n",
      "right BottomX ->  812 540 , 650 428\n",
      "636 413 ,  655 425\n",
      "right BottomX ->  837 540 , 636 413\n",
      "632 410 ,  649 421\n",
      "right BottomX ->  832 540 , 632 410\n",
      "658 426 ,  670 434\n",
      "right BottomX ->  829 540 , 658 426\n",
      "639 414 ,  650 421\n",
      "right BottomX ->  837 540 , 639 414\n",
      "638 411 ,  663 428\n",
      "right BottomX ->  827 540 , 638 411\n",
      "629 406 ,  643 415\n",
      "right BottomX ->  837 540 , 629 406\n"
     ]
    },
    {
     "name": "stderr",
     "output_type": "stream",
     "text": [
      "\n",
      "\r",
      " 41%|████      | 91/222 [00:01<00:02, 62.49it/s]"
     ]
    },
    {
     "name": "stdout",
     "output_type": "stream",
     "text": [
      "643 416 ,  659 427\n",
      "right BottomX ->  823 540 , 643 416\n",
      "639 415 ,  650 423\n",
      "right BottomX ->  810 540 , 639 415\n"
     ]
    },
    {
     "name": "stderr",
     "output_type": "stream",
     "text": [
      "\u001b[A\n",
      " 44%|████▍     | 98/222 [00:01<00:02, 61.75it/s]"
     ]
    },
    {
     "name": "stdout",
     "output_type": "stream",
     "text": [
      "629 407 ,  641 416\n",
      "right BottomX ->  806 540 , 629 407\n",
      "616 399 ,  634 411\n",
      "right BottomX ->  827 540 , 616 399\n",
      "641 414 ,  657 425\n",
      "right BottomX ->  824 540 , 641 414\n",
      "689 447 ,  709 461\n",
      "right BottomX ->  821 540 , 689 447\n",
      "639 414 ,  654 424\n",
      "right BottomX ->  828 540 , 639 414\n",
      "705 459 ,  721 469\n",
      "right BottomX ->  834 540 , 705 459\n",
      "661 426 ,  674 435\n",
      "right BottomX ->  825 540 , 661 426\n",
      "658 425 ,  669 432\n",
      "right BottomX ->  838 540 , 658 425\n",
      "662 427 ,  673 434\n",
      "right BottomX ->  839 540 , 662 427\n",
      "625 400 ,  641 411\n",
      "right BottomX ->  828 540 , 625 400\n",
      "669 433 ,  689 447\n",
      "right BottomX ->  821 540 , 669 433\n"
     ]
    },
    {
     "name": "stderr",
     "output_type": "stream",
     "text": [
      "\u001b[A"
     ]
    },
    {
     "name": "stdout",
     "output_type": "stream",
     "text": [
      "619 396 ,  636 408\n",
      "right BottomX ->  823 540 , 619 396\n",
      "655 423 ,  669 432\n",
      "right BottomX ->  837 540 , 655 423\n"
     ]
    },
    {
     "name": "stderr",
     "output_type": "stream",
     "text": [
      "\n",
      " 47%|████▋     | 105/222 [00:01<00:01, 59.53it/s]\u001b[A\n",
      " 50%|█████     | 112/222 [00:01<00:01, 59.22it/s]"
     ]
    },
    {
     "name": "stdout",
     "output_type": "stream",
     "text": [
      "626 403 ,  666 430\n",
      "right BottomX ->  828 540 , 626 403\n",
      "623 399 ,  638 408\n",
      "right BottomX ->  858 540 , 623 399\n",
      "652 418 ,  663 424\n",
      "right BottomX ->  875 540 , 652 418\n",
      "657 421 ,  669 428\n",
      "right BottomX ->  861 540 , 657 421\n",
      "628 402 ,  643 411\n",
      "right BottomX ->  858 540 , 628 402\n",
      "660 423 ,  670 430\n",
      "right BottomX ->  827 540 , 660 423\n",
      "708 457 ,  723 466\n",
      "right BottomX ->  846 540 , 708 457\n",
      "652 418 ,  665 427\n",
      "right BottomX ->  828 540 , 652 418\n",
      "657 421 ,  675 433\n",
      "right BottomX ->  835 540 , 657 421\n",
      "616 391 ,  646 411\n",
      "right BottomX ->  839 540 , 616 391\n",
      "652 416 ,  665 424\n",
      "right BottomX ->  853 540 , 652 416\n",
      "696 445 ,  712 455\n",
      "right BottomX ->  848 540 , 696 445\n",
      "627 398 ,  639 405\n",
      "right BottomX ->  870 540 , 627 398\n"
     ]
    },
    {
     "name": "stderr",
     "output_type": "stream",
     "text": [
      "\u001b[A\n",
      " 54%|█████▎    | 119/222 [00:01<00:01, 61.81it/s]\u001b[A\n",
      " 57%|█████▋    | 126/222 [00:01<00:01, 61.47it/s]"
     ]
    },
    {
     "name": "stdout",
     "output_type": "stream",
     "text": [
      "684 436 ,  696 444\n",
      "right BottomX ->  840 540 , 684 436\n",
      "644 409 ,  660 420\n",
      "right BottomX ->  834 540 , 644 409\n",
      "671 428 ,  692 442\n",
      "right BottomX ->  839 540 , 671 428\n",
      "654 415 ,  674 429\n",
      "right BottomX ->  832 540 , 654 415\n",
      "684 437 ,  696 443\n",
      "right BottomX ->  890 540 , 684 437\n",
      "691 441 ,  708 452\n",
      "right BottomX ->  844 540 , 691 441\n",
      "635 405 ,  649 413\n",
      "right BottomX ->  871 540 , 635 405\n",
      "662 418 ,  699 443\n",
      "right BottomX ->  842 540 , 662 418\n",
      "664 422 ,  681 432\n",
      "right BottomX ->  864 540 , 664 422\n",
      "657 417 ,  672 425\n",
      "right BottomX ->  887 540 , 657 417\n",
      "639 406 ,  655 416\n",
      "right BottomX ->  853 540 , 639 406\n",
      "644 409 ,  660 418\n",
      "right BottomX ->  876 540 , 644 409\n",
      "668 424 ,  681 432\n",
      "right BottomX ->  856 540 , 668 424\n"
     ]
    },
    {
     "name": "stderr",
     "output_type": "stream",
     "text": [
      "\u001b[A\n",
      " 60%|█████▉    | 133/222 [00:01<00:01, 60.57it/s]\u001b[A\n",
      " 63%|██████▎   | 140/222 [00:02<00:01, 62.01it/s]"
     ]
    },
    {
     "name": "stdout",
     "output_type": "stream",
     "text": [
      "680 431 ,  694 439\n",
      "right BottomX ->  870 540 , 680 431\n",
      "678 431 ,  691 439\n",
      "right BottomX ->  855 540 , 678 431\n",
      "686 435 ,  700 443\n",
      "right BottomX ->  869 540 , 686 435\n",
      "670 424 ,  679 430\n",
      "right BottomX ->  844 540 , 670 424\n",
      "648 409 ,  667 421\n",
      "right BottomX ->  855 540 , 648 409\n",
      "667 420 ,  682 429\n",
      "right BottomX ->  867 540 , 667 420\n",
      "686 432 ,  698 439\n",
      "right BottomX ->  871 540 , 686 432\n",
      "643 405 ,  667 419\n",
      "right BottomX ->  874 540 , 643 405\n",
      "681 430 ,  697 439\n",
      "right BottomX ->  876 540 , 681 430\n",
      "661 419 ,  670 424\n",
      "right BottomX ->  878 540 , 661 419\n",
      "667 422 ,  679 429\n",
      "right BottomX ->  869 540 , 667 422\n",
      "662 420 ,  674 427\n",
      "right BottomX ->  867 540 , 662 420\n",
      "701 447 ,  734 468\n",
      "right BottomX ->  847 540 , 701 447\n"
     ]
    },
    {
     "name": "stderr",
     "output_type": "stream",
     "text": [
      "\u001b[A\n",
      " 66%|██████▌   | 147/222 [00:02<00:01, 60.09it/s]\u001b[A\n",
      " 70%|██████▉   | 155/222 [00:02<00:01, 63.94it/s]"
     ]
    },
    {
     "name": "stdout",
     "output_type": "stream",
     "text": [
      "641 406 ,  659 417\n",
      "right BottomX ->  860 540 , 641 406\n",
      "671 424 ,  691 436\n",
      "right BottomX ->  864 540 , 671 424\n",
      "674 427 ,  697 441\n",
      "right BottomX ->  859 540 , 674 427\n",
      "671 423 ,  684 431\n",
      "right BottomX ->  861 540 , 671 423\n",
      "658 414 ,  674 424\n",
      "right BottomX ->  859 540 , 658 414\n",
      "689 431 ,  707 443\n",
      "right BottomX ->  852 540 , 689 431\n",
      "665 416 ,  683 427\n",
      "right BottomX ->  867 540 , 665 416\n",
      "645 405 ,  667 418\n",
      "right BottomX ->  873 540 , 645 405\n",
      "636 400 ,  661 415\n",
      "right BottomX ->  869 540 , 636 400\n",
      "691 434 ,  702 440\n",
      "right BottomX ->  885 540 , 691 434\n",
      "686 444 ,  711 459\n",
      "right BottomX ->  846 540 , 686 444\n",
      "678 426 ,  691 433\n",
      "right BottomX ->  889 540 , 678 426\n",
      "693 434 ,  703 440\n",
      "right BottomX ->  869 540 , 693 434\n",
      "678 424 ,  688 429\n",
      "right BottomX ->  910 540 , 678 424\n"
     ]
    },
    {
     "name": "stderr",
     "output_type": "stream",
     "text": [
      "\u001b[A\n",
      " 73%|███████▎  | 163/222 [00:02<00:00, 66.33it/s]\u001b[A\n",
      " 77%|███████▋  | 171/222 [00:02<00:00, 67.68it/s]"
     ]
    },
    {
     "name": "stdout",
     "output_type": "stream",
     "text": [
      "674 422 ,  686 428\n",
      "right BottomX ->  910 540 , 674 422\n",
      "688 430 ,  710 442\n",
      "right BottomX ->  889 540 , 688 430\n",
      "627 390 ,  647 402\n",
      "right BottomX ->  877 540 , 627 390\n",
      "686 425 ,  730 451\n",
      "right BottomX ->  880 540 , 686 425\n",
      "672 418 ,  686 426\n",
      "right BottomX ->  885 540 , 672 418\n",
      "691 429 ,  704 436\n",
      "right BottomX ->  897 540 , 691 429\n",
      "720 445 ,  734 453\n",
      "right BottomX ->  886 540 , 720 445\n",
      "701 436 ,  719 445\n",
      "right BottomX ->  909 540 , 701 436\n",
      "687 426 ,  701 435\n",
      "right BottomX ->  864 540 , 687 426\n",
      "685 426 ,  699 435\n",
      "right BottomX ->  862 540 , 685 426\n",
      "714 445 ,  742 461\n",
      "right BottomX ->  880 540 , 714 445\n",
      "641 399 ,  668 415\n",
      "right BottomX ->  878 540 , 641 399\n",
      "680 424 ,  693 431\n",
      "right BottomX ->  895 540 , 680 424\n",
      "661 413 ,  675 421\n",
      "right BottomX ->  883 540 , 661 413\n",
      "596 375 ,  640 400\n",
      "right BottomX ->  886 540 , 596 375\n"
     ]
    },
    {
     "name": "stderr",
     "output_type": "stream",
     "text": [
      "\u001b[A\n",
      " 80%|████████  | 178/222 [00:02<00:00, 65.12it/s]\u001b[A"
     ]
    },
    {
     "name": "stdout",
     "output_type": "stream",
     "text": [
      "629 394 ,  665 415\n",
      "right BottomX ->  879 540 , 629 394\n",
      "698 434 ,  710 440\n",
      "right BottomX ->  910 540 , 698 434\n",
      "711 441 ,  727 451\n",
      "right BottomX ->  869 540 , 711 441\n",
      "692 431 ,  707 439\n",
      "right BottomX ->  896 540 , 692 431\n",
      "694 433 ,  708 440\n",
      "right BottomX ->  908 540 , 694 433\n",
      "682 425 ,  700 436\n",
      "right BottomX ->  870 540 , 682 425\n",
      "659 411 ,  672 418\n",
      "right BottomX ->  898 540 , 659 411\n",
      "698 433 ,  713 440\n",
      "right BottomX ->  927 540 , 698 433\n",
      "669 415 ,  685 424\n",
      "right BottomX ->  891 540 , 669 415\n",
      "694 430 ,  707 437\n",
      "right BottomX ->  898 540 , 694 430\n",
      "702 435 ,  716 443\n",
      "right BottomX ->  885 540 , 702 435\n",
      "669 416 ,  681 423\n",
      "right BottomX ->  881 540 , 669 416\n"
     ]
    },
    {
     "name": "stderr",
     "output_type": "stream",
     "text": [
      "\n",
      " 83%|████████▎ | 185/222 [00:02<00:00, 60.44it/s]\u001b[A\n",
      " 86%|████████▋ | 192/222 [00:02<00:00, 59.14it/s]"
     ]
    },
    {
     "name": "stdout",
     "output_type": "stream",
     "text": [
      "687 425 ,  701 433\n",
      "right BottomX ->  888 540 , 687 425\n",
      "725 448 ,  738 455\n",
      "right BottomX ->  895 540 , 725 448\n",
      "650 403 ,  674 417\n",
      "right BottomX ->  884 540 , 650 403\n",
      "683 425 ,  715 443\n",
      "right BottomX ->  887 540 , 683 425\n",
      "589 365 ,  628 387\n",
      "right BottomX ->  899 540 , 589 365\n",
      "660 406 ,  675 415\n",
      "right BottomX ->  883 540 , 660 406\n",
      "654 403 ,  666 408\n",
      "right BottomX ->  982 540 , 654 403\n",
      "665 410 ,  682 419\n",
      "right BottomX ->  910 540 , 665 410\n",
      "664 412 ,  681 422\n",
      "right BottomX ->  881 540 , 664 412\n",
      "650 404 ,  667 414\n",
      "right BottomX ->  881 540 , 650 404\n",
      "648 403 ,  662 411\n",
      "right BottomX ->  887 540 , 648 403\n",
      "684 426 ,  697 433\n",
      "right BottomX ->  895 540 , 684 426\n"
     ]
    },
    {
     "name": "stderr",
     "output_type": "stream",
     "text": [
      "\u001b[A\n",
      " 90%|████████▉ | 199/222 [00:03<00:00, 58.98it/s]\u001b[A\n",
      " 93%|█████████▎| 207/222 [00:03<00:00, 62.87it/s]"
     ]
    },
    {
     "name": "stdout",
     "output_type": "stream",
     "text": [
      "677 423 ,  708 440\n",
      "right BottomX ->  890 540 , 677 423\n",
      "623 389 ,  648 404\n",
      "right BottomX ->  874 540 , 623 389\n",
      "683 423 ,  694 430\n",
      "right BottomX ->  866 540 , 683 423\n",
      "647 403 ,  670 416\n",
      "right BottomX ->  889 540 , 647 403\n",
      "661 411 ,  678 420\n",
      "right BottomX ->  904 540 , 661 411\n",
      "661 411 ,  672 416\n",
      "right BottomX ->  944 540 , 661 411\n",
      "666 413 ,  678 420\n",
      "right BottomX ->  883 540 , 666 413\n",
      "679 419 ,  689 425\n",
      "right BottomX ->  880 540 , 679 419\n",
      "672 416 ,  684 422\n",
      "right BottomX ->  920 540 , 672 416\n",
      "646 401 ,  698 430\n",
      "right BottomX ->  895 540 , 646 401\n",
      "607 377 ,  630 390\n",
      "right BottomX ->  895 540 , 607 377\n",
      "661 408 ,  686 422\n",
      "right BottomX ->  896 540 , 661 408\n",
      "597 371 ,  653 403\n",
      "right BottomX ->  892 540 , 597 371\n",
      "584 387 ,  624 410\n",
      "right BottomX ->  850 540 , 584 387\n"
     ]
    },
    {
     "name": "stderr",
     "output_type": "stream",
     "text": [
      "\u001b[A\n",
      " 96%|█████████▋| 214/222 [00:03<00:00, 62.31it/s]\u001b[A\n",
      "100%|█████████▉| 221/222 [00:03<00:00, 63.84it/s]"
     ]
    },
    {
     "name": "stdout",
     "output_type": "stream",
     "text": [
      "631 392 ,  658 407\n",
      "right BottomX ->  897 540 , 631 392\n",
      "668 413 ,  688 424\n",
      "right BottomX ->  898 540 , 668 413\n",
      "658 408 ,  672 416\n",
      "right BottomX ->  889 540 , 658 408\n",
      "696 432 ,  738 455\n",
      "right BottomX ->  893 540 , 696 432\n",
      "680 423 ,  705 437\n",
      "right BottomX ->  888 540 , 680 423\n",
      "641 399 ,  657 409\n",
      "right BottomX ->  866 540 , 641 399\n",
      "701 433 ,  720 445\n",
      "right BottomX ->  870 540 , 701 433\n",
      "677 421 ,  692 429\n",
      "right BottomX ->  900 540 , 677 421\n",
      "641 399 ,  657 408\n",
      "right BottomX ->  891 540 , 641 399\n",
      "685 426 ,  709 439\n",
      "right BottomX ->  895 540 , 685 426\n",
      "677 421 ,  692 429\n",
      "right BottomX ->  900 540 , 677 421\n"
     ]
    },
    {
     "name": "stderr",
     "output_type": "stream",
     "text": [
      "\u001b[A\n",
      "\u001b[A"
     ]
    },
    {
     "name": "stdout",
     "output_type": "stream",
     "text": [
      "[MoviePy] Done.\n",
      "[MoviePy] >>>> Video ready: white.mp4 \n",
      "\n",
      "CPU times: user 2.39 s, sys: 929 ms, total: 3.31 s\n",
      "Wall time: 3.8 s\n"
     ]
    }
   ],
   "source": [
    "white_output = 'white.mp4'\n",
    "clip1 = VideoFileClip(\"solidWhiteRight.mp4\")\n",
    "white_clip = clip1.fl_image(process_image) #NOTE: this function expects color images!!\n",
    "%time white_clip.write_videofile(white_output, audio=False)"
   ]
  },
  {
   "cell_type": "markdown",
   "metadata": {},
   "source": [
    "Play the video inline, or if you prefer find the video in your filesystem (should be in the same directory) and play it in your video player of choice."
   ]
  },
  {
   "cell_type": "code",
   "execution_count": 8,
   "metadata": {
    "collapsed": false
   },
   "outputs": [
    {
     "data": {
      "text/html": [
       "\n",
       "<video width=\"960\" height=\"540\" controls>\n",
       "  <source src=\"white.mp4\">\n",
       "</video>\n"
      ],
      "text/plain": [
       "<IPython.core.display.HTML object>"
      ]
     },
     "execution_count": 8,
     "metadata": {},
     "output_type": "execute_result"
    }
   ],
   "source": [
    "HTML(\"\"\"\n",
    "<video width=\"960\" height=\"540\" controls>\n",
    "  <source src=\"{0}\">\n",
    "</video>\n",
    "\"\"\".format(white_output))"
   ]
  },
  {
   "cell_type": "markdown",
   "metadata": {},
   "source": [
    "**At this point, if you were successful you probably have the Hough line segments drawn onto the road, but what about identifying the full extent of the lane and marking it clearly as in the example video (P1_example.mp4)?  Think about defining a line to run the full length of the visible lane based on the line segments you identified with the Hough Transform.  Modify your draw_lines function accordingly and try re-running your pipeline.**"
   ]
  },
  {
   "cell_type": "markdown",
   "metadata": {},
   "source": [
    "Now for the one with the solid yellow lane on the left. This one's more tricky!"
   ]
  },
  {
   "cell_type": "code",
   "execution_count": 9,
   "metadata": {
    "collapsed": false
   },
   "outputs": [
    {
     "name": "stdout",
     "output_type": "stream",
     "text": [
      "639 408 ,  653 418\n",
      "right BottomX ->  823 540 , 639 408\n",
      "[MoviePy] >>>> Building video yellow.mp4\n",
      "[MoviePy] Writing video yellow.mp4\n"
     ]
    },
    {
     "name": "stderr",
     "output_type": "stream",
     "text": [
      "\r",
      "  0%|          | 0/682 [00:00<?, ?it/s]"
     ]
    },
    {
     "name": "stdout",
     "output_type": "stream",
     "text": [
      "639 408 ,  653 418\n",
      "right BottomX ->  823 540 , 639 408\n",
      "688 442 ,  701 450\n",
      "right BottomX ->  847 540 , 688 442\n"
     ]
    },
    {
     "name": "stderr",
     "output_type": "stream",
     "text": [
      "\r",
      "  2%|▏         | 11/682 [00:00<00:06, 107.63it/s]"
     ]
    },
    {
     "name": "stdout",
     "output_type": "stream",
     "text": [
      "679 436 ,  689 442\n",
      "right BottomX ->  852 540 , 679 436\n",
      "672 429 ,  685 437\n",
      "right BottomX ->  852 540 , 672 429\n",
      "640 407 ,  648 413\n",
      "right BottomX ->  817 540 , 640 407\n",
      "558 352 ,  570 360\n",
      "right BottomX ->  840 540 , 558 352\n",
      "564 356 ,  574 363\n",
      "right BottomX ->  826 540 , 564 356\n",
      "592 374 ,  601 380\n",
      "right BottomX ->  841 540 , 592 374\n",
      "589 371 ,  598 377\n",
      "right BottomX ->  842 540 , 589 371\n",
      "609 384 ,  617 390\n",
      "right BottomX ->  817 540 , 609 384\n",
      "607 382 ,  617 389\n",
      "right BottomX ->  832 540 , 607 382\n",
      "615 387 ,  623 392\n",
      "right BottomX ->  859 540 , 615 387\n",
      "676 428 ,  686 434\n",
      "right BottomX ->  862 540 , 676 428\n",
      "720 456 ,  731 462\n",
      "right BottomX ->  874 540 , 720 456\n",
      "711 449 ,  726 458\n",
      "right BottomX ->  862 540 , 711 449\n",
      "715 452 ,  727 459\n",
      "right BottomX ->  865 540 , 715 452\n",
      "722 456 ,  737 466\n",
      "right BottomX ->  848 540 , 722 456\n",
      "607 382 ,  614 387\n",
      "right BottomX ->  828 540 , 607 382\n",
      "581 366 ,  590 372\n",
      "right BottomX ->  842 540 , 581 366\n",
      "587 369 ,  595 375\n",
      "right BottomX ->  815 540 , 587 369\n",
      "581 364 ,  590 370\n",
      "right BottomX ->  845 540 , 581 364\n",
      "609 383 ,  623 392\n",
      "right BottomX ->  853 540 , 609 383\n",
      "622 390 ,  630 395\n",
      "right BottomX ->  862 540 , 622 390\n",
      "630 395 ,  640 401\n",
      "right BottomX ->  871 540 , 630 395\n"
     ]
    },
    {
     "name": "stderr",
     "output_type": "stream",
     "text": [
      "\r",
      "  4%|▎         | 24/682 [00:00<00:05, 111.58it/s]"
     ]
    },
    {
     "name": "stdout",
     "output_type": "stream",
     "text": [
      "656 414 ,  666 420\n",
      "right BottomX ->  866 540 , 656 414\n",
      "662 416 ,  674 424\n",
      "right BottomX ->  848 540 , 662 416\n",
      "734 461 ,  744 466\n",
      "right BottomX ->  892 540 , 734 461\n"
     ]
    },
    {
     "name": "stderr",
     "output_type": "stream",
     "text": [
      "\r",
      "  5%|▌         | 35/682 [00:00<00:05, 110.62it/s]"
     ]
    },
    {
     "name": "stdout",
     "output_type": "stream",
     "text": [
      "731 458 ,  745 467\n",
      "right BottomX ->  858 540 , 731 458\n",
      "770 480 ,  777 484\n",
      "right BottomX ->  875 540 , 770 480\n",
      "691 430 ,  700 435\n",
      "right BottomX ->  889 540 , 691 430\n",
      "591 367 ,  600 373\n",
      "right BottomX ->  850 540 , 591 367\n",
      "580 362 ,  588 366\n",
      "right BottomX ->  936 540 , 580 362\n",
      "624 388 ,  633 393\n",
      "right BottomX ->  897 540 , 624 388\n",
      "612 380 ,  621 386\n",
      "right BottomX ->  852 540 , 612 380\n",
      "598 371 ,  614 381\n",
      "right BottomX ->  868 540 , 598 371\n",
      "632 393 ,  643 399\n",
      "right BottomX ->  901 540 , 632 393\n",
      "629 391 ,  641 398\n",
      "right BottomX ->  884 540 , 629 391\n",
      "675 417 ,  684 423\n",
      "right BottomX ->  859 540 , 675 417\n",
      "705 437 ,  713 442\n",
      "right BottomX ->  869 540 , 705 437\n",
      "699 433 ,  713 441\n",
      "right BottomX ->  886 540 , 699 433\n",
      "737 455 ,  751 463\n",
      "right BottomX ->  885 540 , 737 455\n",
      "748 461 ,  759 467\n",
      "right BottomX ->  892 540 , 748 461\n",
      "679 421 ,  692 428\n",
      "right BottomX ->  900 540 , 679 421\n",
      "564 350 ,  572 355\n",
      "right BottomX ->  868 540 , 564 350\n",
      "581 362 ,  590 368\n",
      "right BottomX ->  848 540 , 581 362\n",
      "579 361 ,  589 368\n",
      "right BottomX ->  834 540 , 579 361\n",
      "592 370 ,  601 376\n",
      "right BottomX ->  847 540 , 592 370\n"
     ]
    },
    {
     "name": "stderr",
     "output_type": "stream",
     "text": [
      "  8%|▊         | 56/682 [00:00<00:06, 93.72it/s]"
     ]
    },
    {
     "name": "stdout",
     "output_type": "stream",
     "text": [
      "594 370 ,  605 377\n",
      "right BottomX ->  861 540 , 594 370\n",
      "597 371 ,  612 381\n",
      "right BottomX ->  850 540 , 597 371\n",
      "647 403 ,  659 410\n",
      "right BottomX ->  881 540 , 647 403\n",
      "667 416 ,  680 424\n",
      "right BottomX ->  868 540 , 667 416\n",
      "711 442 ,  722 449\n",
      "right BottomX ->  865 540 , 711 442\n",
      "724 452 ,  733 457\n",
      "right BottomX ->  882 540 , 724 452\n",
      "722 452 ,  733 458\n",
      "right BottomX ->  883 540 , 722 452\n",
      "611 381 ,  625 390\n",
      "right BottomX ->  858 540 , 611 381\n",
      "578 363 ,  588 370\n",
      "right BottomX ->  830 540 , 578 363\n",
      "578 362 ,  585 367\n",
      "right BottomX ->  827 540 , 578 362\n",
      "558 349 ,  569 356\n",
      "right BottomX ->  858 540 , 558 349\n",
      "586 368 ,  594 373\n",
      "right BottomX ->  861 540 , 586 368\n",
      "586 369 ,  596 375\n",
      "right BottomX ->  871 540 , 586 369\n",
      "597 375 ,  605 380\n",
      "right BottomX ->  861 540 , 597 375\n",
      "594 373 ,  605 379\n",
      "right BottomX ->  900 540 , 594 373\n"
     ]
    },
    {
     "name": "stderr",
     "output_type": "stream",
     "text": [
      "\r",
      "  9%|▉         | 64/682 [00:00<00:07, 79.12it/s]"
     ]
    },
    {
     "name": "stdout",
     "output_type": "stream",
     "text": [
      "628 395 ,  637 401\n",
      "right BottomX ->  845 540 , 628 395\n",
      "653 410 ,  667 418\n",
      "right BottomX ->  880 540 , 653 410\n",
      "669 418 ,  687 429\n",
      "right BottomX ->  868 540 , 669 418\n",
      "707 444 ,  716 449\n",
      "right BottomX ->  879 540 , 707 444\n",
      "680 426 ,  694 435\n",
      "right BottomX ->  857 540 , 680 426\n",
      "598 376 ,  607 382\n",
      "right BottomX ->  844 540 , 598 376\n",
      "545 343 ,  555 349\n",
      "right BottomX ->  873 540 , 545 343\n",
      "576 363 ,  585 370\n",
      "right BottomX ->  803 540 , 576 363\n",
      "549 345 ,  559 352\n",
      "right BottomX ->  827 540 , 549 345\n",
      "584 369 ,  593 374\n",
      "right BottomX ->  891 540 , 584 369\n"
     ]
    },
    {
     "name": "stderr",
     "output_type": "stream",
     "text": [
      "\r",
      " 11%|█         | 72/682 [00:00<00:08, 73.51it/s]"
     ]
    },
    {
     "name": "stdout",
     "output_type": "stream",
     "text": [
      "591 373 ,  602 380\n",
      "right BottomX ->  853 540 , 591 373\n",
      "592 380 ,  600 385\n",
      "right BottomX ->  848 540 , 592 380\n",
      "602 381 ,  617 390\n",
      "right BottomX ->  867 540 , 602 381\n"
     ]
    },
    {
     "name": "stderr",
     "output_type": "stream",
     "text": [
      " 13%|█▎        | 86/682 [00:01<00:08, 67.98it/s]"
     ]
    },
    {
     "name": "stdout",
     "output_type": "stream",
     "text": [
      "627 397 ,  639 405\n",
      "right BottomX ->  841 540 , 627 397\n",
      "676 427 ,  689 435\n",
      "right BottomX ->  859 540 , 676 427\n",
      "712 450 ,  723 457\n",
      "right BottomX ->  853 540 , 712 450\n",
      "682 432 ,  694 440\n",
      "right BottomX ->  844 540 , 682 432\n",
      "630 399 ,  639 404\n",
      "right BottomX ->  883 540 , 630 399\n",
      "542 342 ,  549 347\n",
      "right BottomX ->  819 540 , 542 342\n",
      "550 347 ,  560 354\n",
      "right BottomX ->  825 540 , 550 347\n",
      "564 356 ,  572 362\n",
      "right BottomX ->  809 540 , 564 356\n",
      "576 364 ,  594 377\n",
      "right BottomX ->  819 540 , 576 364\n",
      "590 374 ,  599 379\n",
      "right BottomX ->  888 540 , 590 374\n",
      "581 368 ,  594 376\n",
      "right BottomX ->  860 540 , 581 368\n",
      "600 381 ,  610 387\n",
      "right BottomX ->  865 540 , 600 381\n",
      "608 386 ,  625 396\n",
      "right BottomX ->  869 540 , 608 386\n"
     ]
    },
    {
     "name": "stderr",
     "output_type": "stream",
     "text": [
      " 15%|█▍        | 101/682 [00:01<00:08, 69.45it/s]"
     ]
    },
    {
     "name": "stdout",
     "output_type": "stream",
     "text": [
      "649 411 ,  659 417\n",
      "right BottomX ->  864 540 , 649 411\n",
      "693 441 ,  706 449\n",
      "right BottomX ->  853 540 , 693 441\n",
      "697 442 ,  707 448\n",
      "right BottomX ->  860 540 , 697 442\n",
      "670 426 ,  681 433\n",
      "right BottomX ->  849 540 , 670 426\n",
      "684 435 ,  693 441\n",
      "right BottomX ->  841 540 , 684 435\n",
      "541 346 ,  550 353\n",
      "right BottomX ->  790 540 , 541 346\n",
      "561 359 ,  573 367\n",
      "right BottomX ->  832 540 , 561 359\n",
      "555 355 ,  567 363\n",
      "right BottomX ->  832 540 , 555 355\n",
      "558 356 ,  567 363\n",
      "right BottomX ->  794 540 , 558 356\n",
      "588 375 ,  596 380\n",
      "right BottomX ->  852 540 , 588 375\n",
      "576 366 ,  587 374\n",
      "right BottomX ->  815 540 , 576 366\n",
      "588 375 ,  597 380\n",
      "right BottomX ->  885 540 , 588 375\n",
      "613 390 ,  629 401\n",
      "right BottomX ->  831 540 , 613 390\n",
      "652 415 ,  664 423\n",
      "right BottomX ->  839 540 , 652 415\n",
      "653 415 ,  665 423\n",
      "right BottomX ->  840 540 , 653 415\n"
     ]
    },
    {
     "name": "stderr",
     "output_type": "stream",
     "text": [
      "\r",
      " 16%|█▌        | 109/682 [00:01<00:08, 69.99it/s]"
     ]
    },
    {
     "name": "stdout",
     "output_type": "stream",
     "text": [
      "655 416 ,  669 425\n",
      "right BottomX ->  847 540 , 655 416\n",
      "674 428 ,  687 436\n",
      "right BottomX ->  856 540 , 674 428\n",
      "652 432 ,  659 437\n",
      "right BottomX ->  803 540 , 652 432\n",
      "552 350 ,  562 356\n",
      "right BottomX ->  868 540 , 552 350\n",
      "552 351 ,  563 358\n",
      "right BottomX ->  849 540 , 552 351\n",
      "566 360 ,  575 366\n",
      "right BottomX ->  836 540 , 566 360\n",
      "585 373 ,  597 381\n",
      "right BottomX ->  835 540 , 585 373\n",
      "606 387 ,  615 393\n",
      "right BottomX ->  835 540 , 606 387\n",
      "596 381 ,  608 389\n",
      "right BottomX ->  834 540 , 596 381\n",
      "607 386 ,  616 392\n",
      "right BottomX ->  838 540 , 607 386\n",
      "623 397 ,  641 407\n",
      "right BottomX ->  880 540 , 623 397\n",
      "643 408 ,  655 416\n",
      "right BottomX ->  841 540 , 643 408\n",
      "632 399 ,  651 412\n",
      "right BottomX ->  838 540 , 632 399\n"
     ]
    },
    {
     "name": "stderr",
     "output_type": "stream",
     "text": [
      "\r",
      " 17%|█▋        | 117/682 [00:01<00:08, 69.66it/s]"
     ]
    },
    {
     "name": "stdout",
     "output_type": "stream",
     "text": [
      "643 409 ,  657 417\n",
      "right BottomX ->  872 540 , 643 409\n",
      "670 425 ,  683 432\n",
      "right BottomX ->  883 540 , 670 425\n"
     ]
    },
    {
     "name": "stderr",
     "output_type": "stream",
     "text": [
      "\r",
      " 18%|█▊        | 125/682 [00:01<00:07, 70.22it/s]"
     ]
    },
    {
     "name": "stdout",
     "output_type": "stream",
     "text": [
      "588 373 ,  600 380\n",
      "right BottomX ->  874 540 , 588 373\n",
      "561 357 ,  572 363\n",
      "right BottomX ->  896 540 , 561 357\n",
      "545 346 ,  557 353\n",
      "right BottomX ->  877 540 , 545 346\n",
      "593 377 ,  603 383\n",
      "right BottomX ->  864 540 , 593 377\n",
      "607 385 ,  616 390\n",
      "right BottomX ->  886 540 , 607 385\n",
      "585 372 ,  594 377\n",
      "right BottomX ->  887 540 , 585 372\n",
      "580 368 ,  592 375\n",
      "right BottomX ->  874 540 , 580 368\n",
      "648 413 ,  657 418\n",
      "right BottomX ->  876 540 , 648 413\n",
      "650 414 ,  661 421\n",
      "right BottomX ->  848 540 , 650 414\n",
      "704 448 ,  717 455\n",
      "right BottomX ->  874 540 , 704 448\n",
      "715 455 ,  728 462\n",
      "right BottomX ->  872 540 , 715 455\n",
      "669 425 ,  680 431\n",
      "right BottomX ->  879 540 , 669 425\n",
      "676 430 ,  687 437\n",
      "right BottomX ->  848 540 , 676 430\n",
      "566 360 ,  577 367\n",
      "right BottomX ->  848 540 , 566 360\n"
     ]
    },
    {
     "name": "stderr",
     "output_type": "stream",
     "text": [
      " 21%|██        | 140/682 [00:01<00:07, 68.79it/s]"
     ]
    },
    {
     "name": "stdout",
     "output_type": "stream",
     "text": [
      "551 350 ,  565 359\n",
      "right BottomX ->  846 540 , 551 350\n",
      "570 363 ,  581 369\n",
      "right BottomX ->  894 540 , 570 363\n",
      "578 368 ,  588 374\n",
      "right BottomX ->  864 540 , 578 368\n",
      "586 373 ,  598 380\n",
      "right BottomX ->  872 540 , 586 373\n",
      "613 391 ,  623 397\n",
      "right BottomX ->  861 540 , 613 391\n",
      "621 395 ,  632 401\n",
      "right BottomX ->  886 540 , 621 395\n",
      "639 406 ,  650 413\n",
      "right BottomX ->  849 540 , 639 406\n",
      "646 410 ,  661 419\n",
      "right BottomX ->  862 540 , 646 410\n",
      "702 446 ,  713 453\n",
      "right BottomX ->  849 540 , 702 446\n",
      "671 430 ,  688 440\n",
      "right BottomX ->  858 540 , 671 430\n",
      "604 385 ,  622 396\n",
      "right BottomX ->  857 540 , 604 385\n",
      "620 395 ,  630 400\n",
      "right BottomX ->  910 540 , 620 395\n",
      "553 354 ,  562 359\n",
      "right BottomX ->  887 540 , 553 354\n",
      "578 369 ,  588 375\n",
      "right BottomX ->  863 540 , 578 369\n",
      "578 369 ,  589 375\n",
      "right BottomX ->  891 540 , 578 369\n"
     ]
    },
    {
     "name": "stderr",
     "output_type": "stream",
     "text": [
      " 23%|██▎       | 157/682 [00:02<00:07, 71.25it/s]"
     ]
    },
    {
     "name": "stdout",
     "output_type": "stream",
     "text": [
      "587 375 ,  596 380\n",
      "right BottomX ->  884 540 , 587 375\n",
      "584 381 ,  592 386\n",
      "right BottomX ->  838 540 , 584 381\n",
      "614 389 ,  628 398\n",
      "right BottomX ->  848 540 , 614 389\n",
      "652 415 ,  662 420\n",
      "right BottomX ->  902 540 , 652 415\n",
      "634 402 ,  648 410\n",
      "right BottomX ->  875 540 , 634 402\n",
      "708 448 ,  719 454\n",
      "right BottomX ->  876 540 , 708 448\n",
      "682 432 ,  699 442\n",
      "right BottomX ->  865 540 , 682 432\n",
      "681 432 ,  695 440\n",
      "right BottomX ->  870 540 , 681 432\n",
      "672 427 ,  682 432\n",
      "right BottomX ->  898 540 , 672 427\n",
      "566 363 ,  575 368\n",
      "right BottomX ->  884 540 , 566 363\n",
      "552 357 ,  561 361\n",
      "right BottomX ->  963 540 , 552 357\n",
      "552 353 ,  563 359\n",
      "right BottomX ->  894 540 , 552 353\n",
      "600 384 ,  610 389\n",
      "right BottomX ->  912 540 , 600 384\n",
      "606 388 ,  618 395\n",
      "right BottomX ->  866 540 , 606 388\n",
      "604 386 ,  616 392\n",
      "right BottomX ->  912 540 , 604 386\n",
      "615 390 ,  627 397\n",
      "right BottomX ->  872 540 , 615 390\n"
     ]
    },
    {
     "name": "stderr",
     "output_type": "stream",
     "text": [
      " 25%|██▌       | 173/682 [00:02<00:07, 72.25it/s]"
     ]
    },
    {
     "name": "stdout",
     "output_type": "stream",
     "text": [
      "640 405 ,  657 415\n",
      "right BottomX ->  869 540 , 640 405\n",
      "691 434 ,  704 442\n",
      "right BottomX ->  863 540 , 691 434\n",
      "752 470 ,  760 474\n",
      "right BottomX ->  892 540 , 752 470\n",
      "710 445 ,  724 453\n",
      "right BottomX ->  876 540 , 710 445\n",
      "672 423 ,  685 430\n",
      "right BottomX ->  889 540 , 672 423\n",
      "611 386 ,  620 391\n",
      "right BottomX ->  888 540 , 611 386\n",
      "565 360 ,  573 364\n",
      "right BottomX ->  925 540 , 565 360\n",
      "582 369 ,  591 374\n",
      "right BottomX ->  889 540 , 582 369\n",
      "578 366 ,  588 371\n",
      "right BottomX ->  926 540 , 578 366\n",
      "604 381 ,  612 386\n",
      "right BottomX ->  858 540 , 604 381\n",
      "603 380 ,  612 384\n",
      "right BottomX ->  963 540 , 603 380\n",
      "618 387 ,  634 396\n",
      "right BottomX ->  890 540 , 618 387\n",
      "638 399 ,  652 407\n",
      "right BottomX ->  884 540 , 638 399\n",
      "664 413 ,  676 420\n",
      "right BottomX ->  881 540 , 664 413\n",
      "699 432 ,  718 444\n",
      "right BottomX ->  870 540 , 699 432\n"
     ]
    },
    {
     "name": "stderr",
     "output_type": "stream",
     "text": [
      " 28%|██▊       | 189/682 [00:02<00:06, 71.92it/s]"
     ]
    },
    {
     "name": "stdout",
     "output_type": "stream",
     "text": [
      "706 438 ,  716 444\n",
      "right BottomX ->  876 540 , 706 438\n",
      "664 415 ,  675 421\n",
      "right BottomX ->  893 540 , 664 415\n",
      "670 420 ,  679 424\n",
      "right BottomX ->  940 540 , 670 420\n",
      "558 354 ,  566 358\n",
      "right BottomX ->  930 540 , 558 354\n",
      "569 360 ,  579 365\n",
      "right BottomX ->  929 540 , 569 360\n",
      "580 367 ,  591 372\n",
      "right BottomX ->  960 540 , 580 367\n",
      "559 356 ,  573 363\n",
      "right BottomX ->  927 540 , 559 356\n",
      "615 388 ,  626 393\n",
      "right BottomX ->  949 540 , 615 388\n",
      "637 400 ,  646 404\n",
      "right BottomX ->  952 540 , 637 400\n",
      "630 395 ,  643 401\n",
      "right BottomX ->  944 540 , 630 395\n",
      "654 409 ,  667 416\n",
      "right BottomX ->  897 540 , 654 409\n",
      "670 419 ,  685 426\n",
      "right BottomX ->  929 540 , 670 419\n",
      "688 429 ,  710 440\n",
      "right BottomX ->  910 540 , 688 429\n",
      "680 427 ,  693 433\n",
      "right BottomX ->  924 540 , 680 427\n",
      "655 412 ,  667 419\n",
      "right BottomX ->  874 540 , 655 412\n"
     ]
    },
    {
     "name": "stderr",
     "output_type": "stream",
     "text": [
      " 30%|███       | 205/682 [00:02<00:06, 73.84it/s]"
     ]
    },
    {
     "name": "stdout",
     "output_type": "stream",
     "text": [
      "580 367 ,  588 371\n",
      "right BottomX ->  926 540 , 580 367\n",
      "559 355 ,  567 359\n",
      "right BottomX ->  929 540 , 559 355\n",
      "567 361 ,  576 365\n",
      "right BottomX ->  969 540 , 567 361\n",
      "590 374 ,  598 378\n",
      "right BottomX ->  922 540 , 590 374\n",
      "624 395 ,  635 401\n",
      "right BottomX ->  889 540 , 624 395\n",
      "596 378 ,  604 382\n",
      "right BottomX ->  920 540 , 596 378\n",
      "618 392 ,  628 397\n",
      "right BottomX ->  914 540 , 618 392\n",
      "635 400 ,  648 408\n",
      "right BottomX ->  862 540 , 635 400\n",
      "667 420 ,  680 426\n",
      "right BottomX ->  927 540 , 667 420\n",
      "712 454 ,  725 461\n",
      "right BottomX ->  871 540 , 712 454\n",
      "733 460 ,  749 468\n",
      "right BottomX ->  893 540 , 733 460\n",
      "719 453 ,  730 459\n",
      "right BottomX ->  878 540 , 719 453\n",
      "663 421 ,  672 427\n",
      "right BottomX ->  841 540 , 663 421\n",
      "552 357 ,  561 361\n",
      "right BottomX ->  963 540 , 552 357\n",
      "568 365 ,  579 371\n",
      "right BottomX ->  888 540 , 568 365\n",
      "571 367 ,  580 371\n",
      "right BottomX ->  960 540 , 571 367\n"
     ]
    },
    {
     "name": "stderr",
     "output_type": "stream",
     "text": [
      " 32%|███▏      | 221/682 [00:02<00:06, 72.87it/s]"
     ]
    },
    {
     "name": "stdout",
     "output_type": "stream",
     "text": [
      "590 378 ,  599 383\n",
      "right BottomX ->  881 540 , 590 378\n",
      "622 395 ,  633 402\n",
      "right BottomX ->  849 540 , 622 395\n",
      "601 384 ,  615 392\n",
      "right BottomX ->  874 540 , 601 384\n",
      "610 399 ,  620 404\n",
      "right BottomX ->  892 540 , 610 399\n",
      "633 404 ,  653 416\n",
      "right BottomX ->  859 540 , 633 404\n",
      "675 430 ,  688 437\n",
      "right BottomX ->  879 540 , 675 430\n",
      "690 437 ,  704 445\n",
      "right BottomX ->  870 540 , 690 437\n",
      "686 435 ,  699 443\n",
      "right BottomX ->  856 540 , 686 435\n",
      "658 419 ,  671 426\n",
      "right BottomX ->  882 540 , 658 419\n",
      "563 363 ,  572 368\n",
      "right BottomX ->  881 540 , 563 363\n",
      "556 359 ,  569 366\n",
      "right BottomX ->  892 540 , 556 359\n",
      "570 366 ,  579 371\n",
      "right BottomX ->  883 540 , 570 366\n",
      "586 376 ,  595 382\n",
      "right BottomX ->  832 540 , 586 376\n",
      "563 362 ,  574 369\n",
      "right BottomX ->  842 540 , 563 362\n",
      "586 377 ,  598 383\n",
      "right BottomX ->  912 540 , 586 377\n"
     ]
    },
    {
     "name": "stderr",
     "output_type": "stream",
     "text": [
      "\r",
      " 34%|███▎      | 229/682 [00:03<00:06, 72.67it/s]"
     ]
    },
    {
     "name": "stdout",
     "output_type": "stream",
     "text": [
      "637 407 ,  646 412\n",
      "right BottomX ->  876 540 , 637 407\n",
      "620 397 ,  631 403\n",
      "right BottomX ->  882 540 , 620 397\n",
      "629 400 ,  645 409\n",
      "right BottomX ->  877 540 , 629 400\n",
      "690 436 ,  705 445\n",
      "right BottomX ->  863 540 , 690 436\n",
      "671 426 ,  686 434\n",
      "right BottomX ->  884 540 , 671 426\n",
      "695 439 ,  706 444\n",
      "right BottomX ->  917 540 , 695 439\n",
      "638 406 ,  649 412\n",
      "right BottomX ->  883 540 , 638 406\n",
      "573 366 ,  584 372\n",
      "right BottomX ->  892 540 , 573 366\n",
      "565 362 ,  574 367\n",
      "right BottomX ->  885 540 , 565 362\n",
      "591 379 ,  600 384\n",
      "right BottomX ->  880 540 , 591 379\n",
      "603 386 ,  613 391\n",
      "right BottomX ->  911 540 , 603 386\n",
      "588 375 ,  598 381\n",
      "right BottomX ->  863 540 , 588 375\n"
     ]
    },
    {
     "name": "stderr",
     "output_type": "stream",
     "text": [
      "\r",
      " 35%|███▍      | 237/682 [00:03<00:06, 73.54it/s]"
     ]
    },
    {
     "name": "stdout",
     "output_type": "stream",
     "text": [
      "629 399 ,  638 404\n",
      "right BottomX ->  882 540 , 629 399\n",
      "640 406 ,  653 414\n",
      "right BottomX ->  857 540 , 640 406\n",
      "640 413 ,  650 419\n",
      "right BottomX ->  851 540 , 640 413\n",
      "693 438 ,  705 445\n",
      "right BottomX ->  867 540 , 693 438\n"
     ]
    },
    {
     "name": "stderr",
     "output_type": "stream",
     "text": [
      "\r",
      " 36%|███▌      | 245/682 [00:03<00:06, 72.80it/s]"
     ]
    },
    {
     "name": "stdout",
     "output_type": "stream",
     "text": [
      "691 436 ,  707 444\n",
      "right BottomX ->  899 540 , 691 436\n",
      "720 455 ,  729 459\n",
      "right BottomX ->  911 540 , 720 455\n",
      "660 418 ,  670 423\n",
      "right BottomX ->  904 540 , 660 418\n",
      "548 353 ,  558 358\n",
      "right BottomX ->  922 540 , 548 353\n",
      "577 370 ,  590 377\n",
      "right BottomX ->  892 540 , 577 370\n",
      "548 354 ,  558 360\n",
      "right BottomX ->  858 540 , 548 354\n",
      "600 386 ,  612 392\n",
      "right BottomX ->  908 540 , 600 386\n",
      "554 370 ,  566 376\n",
      "right BottomX ->  894 540 , 554 370\n",
      "566 365 ,  578 372\n",
      "right BottomX ->  866 540 , 566 365\n",
      "621 397 ,  632 403\n",
      "right BottomX ->  883 540 , 621 397\n",
      "611 391 ,  623 398\n",
      "right BottomX ->  866 540 , 611 391\n"
     ]
    },
    {
     "name": "stderr",
     "output_type": "stream",
     "text": [
      "\r",
      " 37%|███▋      | 253/682 [00:03<00:05, 72.44it/s]"
     ]
    },
    {
     "name": "stdout",
     "output_type": "stream",
     "text": [
      "626 400 ,  642 410\n",
      "right BottomX ->  850 540 , 626 400\n",
      "690 439 ,  700 445\n",
      "right BottomX ->  858 540 , 690 439\n",
      "687 437 ,  700 444\n",
      "right BottomX ->  878 540 , 687 437\n",
      "698 444 ,  707 449\n",
      "right BottomX ->  870 540 , 698 444\n"
     ]
    },
    {
     "name": "stderr",
     "output_type": "stream",
     "text": [
      "\r",
      " 38%|███▊      | 261/682 [00:03<00:05, 72.07it/s]"
     ]
    },
    {
     "name": "stdout",
     "output_type": "stream",
     "text": [
      "687 438 ,  695 442\n",
      "right BottomX ->  891 540 , 687 438\n",
      "630 402 ,  640 408\n",
      "right BottomX ->  860 540 , 630 402\n",
      "560 360 ,  570 366\n",
      "right BottomX ->  860 540 , 560 360\n",
      "540 350 ,  552 357\n",
      "right BottomX ->  865 540 , 540 350\n",
      "557 358 ,  569 365\n",
      "right BottomX ->  869 540 , 557 358\n",
      "538 362 ,  552 369\n",
      "right BottomX ->  894 540 , 538 362\n",
      "570 368 ,  584 375\n",
      "right BottomX ->  914 540 , 570 368\n",
      "610 390 ,  622 397\n",
      "right BottomX ->  867 540 , 610 390\n",
      "619 395 ,  634 403\n",
      "right BottomX ->  890 540 , 619 395\n",
      "631 402 ,  642 408\n",
      "right BottomX ->  884 540 , 631 402\n",
      "661 420 ,  671 426\n",
      "right BottomX ->  861 540 , 661 420\n"
     ]
    },
    {
     "name": "stderr",
     "output_type": "stream",
     "text": [
      "\r",
      " 39%|███▉      | 269/682 [00:03<00:05, 71.72it/s]"
     ]
    },
    {
     "name": "stdout",
     "output_type": "stream",
     "text": [
      "692 440 ,  705 447\n",
      "right BottomX ->  877 540 , 692 440\n",
      "651 414 ,  665 423\n",
      "right BottomX ->  847 540 , 651 414\n",
      "711 449 ,  723 455\n",
      "right BottomX ->  893 540 , 711 449\n",
      "651 414 ,  661 420\n",
      "right BottomX ->  861 540 , 651 414\n"
     ]
    },
    {
     "name": "stderr",
     "output_type": "stream",
     "text": [
      "\r",
      " 41%|████      | 277/682 [00:03<00:05, 71.79it/s]"
     ]
    },
    {
     "name": "stdout",
     "output_type": "stream",
     "text": [
      "554 354 ,  565 360\n",
      "right BottomX ->  895 540 , 554 354\n",
      "569 362 ,  578 367\n",
      "right BottomX ->  889 540 , 569 362\n",
      "546 351 ,  561 359\n",
      "right BottomX ->  900 540 , 546 351\n",
      "585 372 ,  594 377\n",
      "right BottomX ->  887 540 , 585 372\n",
      "604 384 ,  615 391\n",
      "right BottomX ->  849 540 , 604 384\n",
      "597 378 ,  607 384\n",
      "right BottomX ->  867 540 , 597 378\n",
      "618 392 ,  633 399\n",
      "right BottomX ->  935 540 , 618 392\n",
      "652 412 ,  663 418\n",
      "right BottomX ->  886 540 , 652 412\n",
      "721 453 ,  731 458\n",
      "right BottomX ->  895 540 , 721 453\n",
      "695 440 ,  709 448\n",
      "right BottomX ->  870 540 , 695 440\n"
     ]
    },
    {
     "name": "stderr",
     "output_type": "stream",
     "text": [
      "\r",
      " 42%|████▏     | 285/682 [00:03<00:05, 70.34it/s]"
     ]
    },
    {
     "name": "stdout",
     "output_type": "stream",
     "text": [
      "709 447 ,  720 453\n",
      "right BottomX ->  879 540 , 709 447\n",
      "643 408 ,  652 413\n",
      "right BottomX ->  880 540 , 643 408\n",
      "555 358 ,  564 363\n",
      "right BottomX ->  882 540 , 555 358\n",
      "566 366 ,  577 372\n",
      "right BottomX ->  885 540 , 566 366\n",
      "569 367 ,  580 373\n",
      "right BottomX ->  886 540 , 569 367\n"
     ]
    },
    {
     "name": "stderr",
     "output_type": "stream",
     "text": [
      "\r",
      " 43%|████▎     | 293/682 [00:03<00:05, 71.36it/s]"
     ]
    },
    {
     "name": "stdout",
     "output_type": "stream",
     "text": [
      "558 360 ,  567 365\n",
      "right BottomX ->  882 540 , 558 360\n",
      "589 378 ,  600 384\n",
      "right BottomX ->  886 540 , 589 378\n",
      "595 383 ,  607 389\n",
      "right BottomX ->  909 540 , 595 383\n",
      "621 400 ,  633 407\n",
      "right BottomX ->  861 540 , 621 400\n",
      "655 422 ,  667 429\n",
      "right BottomX ->  857 540 , 655 422\n",
      "679 436 ,  691 443\n",
      "right BottomX ->  857 540 , 679 436\n",
      "691 446 ,  701 451\n",
      "right BottomX ->  879 540 , 691 446\n",
      "715 454 ,  727 461\n",
      "right BottomX ->  862 540 , 715 454\n",
      "654 417 ,  663 422\n",
      "right BottomX ->  875 540 , 654 417\n",
      "550 357 ,  562 363\n",
      "right BottomX ->  916 540 , 550 357\n",
      "546 354 ,  558 361\n",
      "right BottomX ->  864 540 , 546 354\n",
      "552 357 ,  562 363\n",
      "right BottomX ->  857 540 , 552 357\n",
      "589 379 ,  596 383\n",
      "right BottomX ->  870 540 , 589 379\n",
      "573 377 ,  582 382\n",
      "right BottomX ->  866 540 , 573 377\n"
     ]
    },
    {
     "name": "stderr",
     "output_type": "stream",
     "text": [
      "\r",
      " 44%|████▍     | 301/682 [00:04<00:05, 68.06it/s]"
     ]
    },
    {
     "name": "stdout",
     "output_type": "stream",
     "text": [
      "587 378 ,  598 385\n",
      "right BottomX ->  841 540 , 587 378\n",
      "609 392 ,  625 401\n",
      "right BottomX ->  872 540 , 609 392\n",
      "611 391 ,  624 399\n",
      "right BottomX ->  853 540 , 611 391\n",
      "668 428 ,  681 436\n",
      "right BottomX ->  850 540 , 668 428\n",
      "692 440 ,  706 449\n",
      "right BottomX ->  847 540 , 692 440\n",
      "708 451 ,  717 456\n",
      "right BottomX ->  868 540 , 708 451\n",
      "711 453 ,  720 457\n",
      "right BottomX ->  906 540 , 711 453\n",
      "626 400 ,  634 405\n",
      "right BottomX ->  850 540 , 626 400\n",
      "552 355 ,  563 360\n",
      "right BottomX ->  959 540 , 552 355\n",
      "536 343 ,  548 350\n",
      "right BottomX ->  873 540 , 536 343\n"
     ]
    },
    {
     "name": "stderr",
     "output_type": "stream",
     "text": [
      "\r",
      " 45%|████▌     | 309/682 [00:04<00:05, 70.38it/s]"
     ]
    },
    {
     "name": "stdout",
     "output_type": "stream",
     "text": [
      "580 371 ,  590 376\n",
      "right BottomX ->  918 540 , 580 371\n",
      "580 371 ,  590 377\n",
      "right BottomX ->  861 540 , 580 371\n",
      "578 370 ,  589 376\n",
      "right BottomX ->  889 540 , 578 370\n",
      "603 386 ,  613 391\n",
      "right BottomX ->  911 540 , 603 386\n",
      "623 397 ,  636 404\n",
      "right BottomX ->  888 540 , 623 397\n"
     ]
    },
    {
     "name": "stderr",
     "output_type": "stream",
     "text": [
      "\r",
      " 46%|████▋     | 317/682 [00:04<00:05, 68.86it/s]"
     ]
    },
    {
     "name": "stdout",
     "output_type": "stream",
     "text": [
      "625 398 ,  637 405\n",
      "right BottomX ->  868 540 , 625 398\n",
      "706 448 ,  716 454\n",
      "right BottomX ->  859 540 , 706 448\n",
      "688 436 ,  706 447\n",
      "right BottomX ->  858 540 , 688 436\n",
      "628 402 ,  640 408\n",
      "right BottomX ->  904 540 , 628 402\n",
      "620 396 ,  632 403\n",
      "right BottomX ->  866 540 , 620 396\n",
      "563 362 ,  572 367\n",
      "right BottomX ->  883 540 , 563 362\n",
      "561 360 ,  571 365\n",
      "right BottomX ->  921 540 , 561 360\n",
      "559 360 ,  569 365\n",
      "right BottomX ->  919 540 , 559 360\n",
      "572 368 ,  585 375\n",
      "right BottomX ->  891 540 , 572 368\n",
      "604 386 ,  617 393\n",
      "right BottomX ->  890 540 , 604 386\n"
     ]
    },
    {
     "name": "stderr",
     "output_type": "stream",
     "text": [
      "\r",
      " 48%|████▊     | 325/682 [00:04<00:05, 70.84it/s]"
     ]
    },
    {
     "name": "stdout",
     "output_type": "stream",
     "text": [
      "601 386 ,  613 393\n",
      "right BottomX ->  865 540 , 601 386\n",
      "625 401 ,  636 407\n",
      "right BottomX ->  879 540 , 625 401\n",
      "672 429 ,  681 433\n",
      "right BottomX ->  921 540 , 672 429\n",
      "686 440 ,  699 447\n",
      "right BottomX ->  871 540 , 686 440\n",
      "700 447 ,  710 452\n",
      "right BottomX ->  886 540 , 700 447\n"
     ]
    },
    {
     "name": "stderr",
     "output_type": "stream",
     "text": [
      "\r",
      " 49%|████▉     | 333/682 [00:04<00:04, 70.54it/s]"
     ]
    },
    {
     "name": "stdout",
     "output_type": "stream",
     "text": [
      "686 437 ,  697 443\n",
      "right BottomX ->  874 540 , 686 437\n",
      "649 412 ,  658 417\n",
      "right BottomX ->  879 540 , 649 412\n",
      "539 348 ,  548 353\n",
      "right BottomX ->  884 540 , 539 348\n",
      "561 362 ,  570 367\n",
      "right BottomX ->  881 540 , 561 362\n",
      "578 371 ,  588 376\n",
      "right BottomX ->  916 540 , 578 371\n",
      "568 367 ,  580 374\n",
      "right BottomX ->  864 540 , 568 367\n",
      "580 373 ,  591 379\n",
      "right BottomX ->  886 540 , 580 373\n",
      "614 395 ,  624 401\n",
      "right BottomX ->  855 540 , 614 395\n",
      "625 401 ,  635 406\n",
      "right BottomX ->  903 540 , 625 401\n",
      "616 396 ,  629 404\n",
      "right BottomX ->  850 540 , 616 396\n"
     ]
    },
    {
     "name": "stderr",
     "output_type": "stream",
     "text": [
      "\r",
      " 50%|█████     | 341/682 [00:04<00:04, 71.64it/s]"
     ]
    },
    {
     "name": "stdout",
     "output_type": "stream",
     "text": [
      "708 453 ,  721 460\n",
      "right BottomX ->  869 540 , 708 453\n",
      "683 438 ,  695 445\n",
      "right BottomX ->  857 540 , 683 438\n",
      "693 442 ,  705 449\n",
      "right BottomX ->  861 540 , 693 442\n",
      "607 391 ,  616 396\n",
      "right BottomX ->  875 540 , 607 391\n",
      "536 359 ,  544 363\n",
      "right BottomX ->  898 540 , 536 359\n"
     ]
    },
    {
     "name": "stderr",
     "output_type": "stream",
     "text": [
      "\r",
      " 51%|█████     | 349/682 [00:04<00:04, 71.67it/s]"
     ]
    },
    {
     "name": "stdout",
     "output_type": "stream",
     "text": [
      "564 364 ,  578 371\n",
      "right BottomX ->  916 540 , 564 364\n",
      "565 366 ,  579 373\n",
      "right BottomX ->  913 540 , 565 366\n",
      "559 361 ,  571 367\n",
      "right BottomX ->  917 540 , 559 361\n",
      "568 367 ,  581 374\n",
      "right BottomX ->  889 540 , 568 367\n",
      "598 385 ,  608 390\n",
      "right BottomX ->  908 540 , 598 385\n",
      "609 391 ,  621 399\n",
      "right BottomX ->  832 540 , 609 391\n",
      "611 394 ,  629 405\n",
      "right BottomX ->  849 540 , 611 394\n",
      "658 422 ,  671 429\n",
      "right BottomX ->  877 540 , 658 422\n",
      "690 443 ,  701 449\n",
      "right BottomX ->  867 540 , 690 443\n",
      "663 425 ,  675 432\n",
      "right BottomX ->  860 540 , 663 425\n"
     ]
    },
    {
     "name": "stderr",
     "output_type": "stream",
     "text": [
      "\r",
      " 52%|█████▏    | 357/682 [00:04<00:04, 70.05it/s]"
     ]
    },
    {
     "name": "stdout",
     "output_type": "stream",
     "text": [
      "627 404 ,  641 411\n",
      "right BottomX ->  899 540 , 627 404\n",
      "542 352 ,  552 357\n",
      "right BottomX ->  918 540 , 542 352\n",
      "555 361 ,  570 368\n",
      "right BottomX ->  938 540 , 555 361\n",
      "548 356 ,  559 361\n",
      "right BottomX ->  952 540 , 548 356\n"
     ]
    },
    {
     "name": "stderr",
     "output_type": "stream",
     "text": [
      "\r",
      " 54%|█████▎    | 365/682 [00:04<00:04, 70.69it/s]"
     ]
    },
    {
     "name": "stdout",
     "output_type": "stream",
     "text": [
      "572 370 ,  583 377\n",
      "right BottomX ->  839 540 , 572 370\n",
      "563 363 ,  575 370\n",
      "right BottomX ->  866 540 , 563 363\n",
      "605 390 ,  615 395\n",
      "right BottomX ->  905 540 , 605 390\n",
      "606 392 ,  616 398\n",
      "right BottomX ->  852 540 , 606 392\n",
      "638 410 ,  647 415\n",
      "right BottomX ->  872 540 , 638 410\n",
      "670 430 ,  679 436\n",
      "right BottomX ->  835 540 , 670 430\n",
      "722 461 ,  731 466\n",
      "right BottomX ->  864 540 , 722 461\n",
      "631 408 ,  643 415\n",
      "right BottomX ->  857 540 , 631 408\n",
      "666 427 ,  676 433\n",
      "right BottomX ->  854 540 , 666 427\n",
      "548 356 ,  555 360\n",
      "right BottomX ->  870 540 , 548 356\n",
      "538 350 ,  550 356\n",
      "right BottomX ->  918 540 , 538 350\n",
      "564 365 ,  575 371\n",
      "right BottomX ->  884 540 , 564 365\n"
     ]
    },
    {
     "name": "stderr",
     "output_type": "stream",
     "text": [
      "\r",
      " 55%|█████▍    | 373/682 [00:05<00:04, 70.53it/s]"
     ]
    },
    {
     "name": "stdout",
     "output_type": "stream",
     "text": [
      "574 371 ,  584 377\n",
      "right BottomX ->  855 540 , 574 371\n",
      "615 395 ,  626 401\n",
      "right BottomX ->  880 540 , 615 395\n",
      "594 383 ,  603 388\n",
      "right BottomX ->  876 540 , 594 383\n"
     ]
    },
    {
     "name": "stderr",
     "output_type": "stream",
     "text": [
      "\r",
      " 56%|█████▌    | 382/682 [00:05<00:04, 73.53it/s]"
     ]
    },
    {
     "name": "stdout",
     "output_type": "stream",
     "text": [
      "602 389 ,  613 395\n",
      "right BottomX ->  878 540 , 602 389\n",
      "638 411 ,  651 419\n",
      "right BottomX ->  847 540 , 638 411\n",
      "636 411 ,  647 417\n",
      "right BottomX ->  872 540 , 636 411\n",
      "678 436 ,  690 443\n",
      "right BottomX ->  856 540 , 678 436\n",
      "660 423 ,  676 432\n",
      "right BottomX ->  868 540 , 660 423\n",
      "678 435 ,  690 442\n",
      "right BottomX ->  858 540 , 678 435\n",
      "566 366 ,  578 373\n",
      "right BottomX ->  864 540 , 566 366\n",
      "567 368 ,  575 372\n",
      "right BottomX ->  911 540 , 567 368\n",
      "552 358 ,  562 365\n",
      "right BottomX ->  812 540 , 552 358\n",
      "571 371 ,  585 379\n",
      "right BottomX ->  866 540 , 571 371\n",
      "581 377 ,  590 382\n",
      "right BottomX ->  874 540 , 581 377\n",
      "589 381 ,  601 387\n",
      "right BottomX ->  907 540 , 589 381\n",
      "596 385 ,  606 391\n",
      "right BottomX ->  854 540 , 596 385\n",
      "579 374 ,  595 384\n",
      "right BottomX ->  844 540 , 579 374\n",
      "687 440 ,  697 446\n",
      "right BottomX ->  853 540 , 687 440\n",
      "680 436 ,  697 446\n",
      "right BottomX ->  856 540 , 680 436\n"
     ]
    },
    {
     "name": "stderr",
     "output_type": "stream",
     "text": [
      " 58%|█████▊    | 398/682 [00:05<00:03, 73.42it/s]"
     ]
    },
    {
     "name": "stdout",
     "output_type": "stream",
     "text": [
      "690 444 ,  704 452\n",
      "right BottomX ->  858 540 , 690 444\n",
      "639 413 ,  653 422\n",
      "right BottomX ->  836 540 , 639 413\n",
      "588 381 ,  598 387\n",
      "right BottomX ->  853 540 , 588 381\n",
      "544 353 ,  553 358\n",
      "right BottomX ->  880 540 , 544 353\n",
      "539 350 ,  548 355\n",
      "right BottomX ->  881 540 , 539 350\n",
      "562 365 ,  573 372\n",
      "right BottomX ->  837 540 , 562 365\n",
      "600 388 ,  610 394\n",
      "right BottomX ->  853 540 , 600 388\n",
      "575 373 ,  586 380\n",
      "right BottomX ->  837 540 , 575 373\n",
      "584 380 ,  593 385\n",
      "right BottomX ->  872 540 , 584 380\n",
      "606 394 ,  619 401\n",
      "right BottomX ->  877 540 , 606 394\n",
      "636 413 ,  647 420\n",
      "right BottomX ->  835 540 , 636 413\n",
      "671 434 ,  686 444\n",
      "right BottomX ->  830 540 , 671 434\n",
      "697 451 ,  708 458\n",
      "right BottomX ->  836 540 , 697 451\n",
      "652 421 ,  666 430\n",
      "right BottomX ->  837 540 , 652 421\n",
      "609 396 ,  620 402\n",
      "right BottomX ->  873 540 , 609 396\n"
     ]
    },
    {
     "name": "stderr",
     "output_type": "stream",
     "text": [
      " 61%|██████    | 414/682 [00:05<00:03, 74.23it/s]"
     ]
    },
    {
     "name": "stdout",
     "output_type": "stream",
     "text": [
      "550 358 ,  559 364\n",
      "right BottomX ->  823 540 , 550 358\n",
      "567 368 ,  576 374\n",
      "right BottomX ->  825 540 , 567 368\n",
      "561 365 ,  572 372\n",
      "right BottomX ->  836 540 , 561 365\n",
      "570 369 ,  577 374\n",
      "right BottomX ->  809 540 , 570 369\n",
      "587 381 ,  598 387\n",
      "right BottomX ->  878 540 , 587 381\n",
      "592 383 ,  604 391\n",
      "right BottomX ->  827 540 , 592 383\n",
      "597 387 ,  607 393\n",
      "right BottomX ->  852 540 , 597 387\n",
      "631 407 ,  645 416\n",
      "right BottomX ->  837 540 , 631 407\n",
      "695 449 ,  706 455\n",
      "right BottomX ->  861 540 , 695 449\n",
      "697 448 ,  709 455\n",
      "right BottomX ->  854 540 , 697 448\n",
      "681 438 ,  694 446\n",
      "right BottomX ->  846 540 , 681 438\n",
      "626 402 ,  636 408\n",
      "right BottomX ->  856 540 , 626 402\n",
      "542 349 ,  552 354\n",
      "right BottomX ->  924 540 , 542 349\n",
      "539 347 ,  553 355\n",
      "right BottomX ->  876 540 , 539 347\n",
      "565 365 ,  576 372\n",
      "right BottomX ->  840 540 , 565 365\n"
     ]
    },
    {
     "name": "stderr",
     "output_type": "stream",
     "text": [
      " 63%|██████▎   | 430/682 [00:05<00:03, 74.26it/s]"
     ]
    },
    {
     "name": "stdout",
     "output_type": "stream",
     "text": [
      "569 369 ,  580 375\n",
      "right BottomX ->  882 540 , 569 369\n",
      "560 380 ,  574 389\n",
      "right BottomX ->  808 540 , 560 380\n",
      "589 379 ,  602 387\n",
      "right BottomX ->  850 540 , 589 379\n",
      "610 393 ,  622 400\n",
      "right BottomX ->  862 540 , 610 393\n",
      "667 429 ,  678 435\n",
      "right BottomX ->  870 540 , 667 429\n",
      "652 417 ,  666 425\n",
      "right BottomX ->  867 540 , 652 417\n",
      "697 446 ,  708 454\n",
      "right BottomX ->  826 540 , 697 446\n",
      "667 429 ,  682 438\n",
      "right BottomX ->  852 540 , 667 429\n",
      "654 421 ,  666 429\n",
      "right BottomX ->  832 540 , 654 421\n",
      "542 349 ,  549 354\n",
      "right BottomX ->  809 540 , 542 349\n",
      "541 349 ,  553 356\n",
      "right BottomX ->  868 540 , 541 349\n",
      "559 359 ,  569 366\n",
      "right BottomX ->  817 540 , 559 359\n",
      "560 361 ,  574 369\n",
      "right BottomX ->  873 540 , 560 361\n",
      "587 376 ,  598 383\n",
      "right BottomX ->  844 540 , 587 376\n",
      "593 381 ,  609 391\n",
      "right BottomX ->  847 540 , 593 381\n",
      "611 391 ,  624 399\n",
      "right BottomX ->  853 540 , 611 391\n"
     ]
    },
    {
     "name": "stderr",
     "output_type": "stream",
     "text": [
      " 65%|██████▌   | 446/682 [00:06<00:03, 74.57it/s]"
     ]
    },
    {
     "name": "stdout",
     "output_type": "stream",
     "text": [
      "630 403 ,  645 412\n",
      "right BottomX ->  858 540 , 630 403\n",
      "663 425 ,  677 434\n",
      "right BottomX ->  841 540 , 663 425\n",
      "670 430 ,  685 439\n",
      "right BottomX ->  853 540 , 670 430\n",
      "682 436 ,  696 444\n",
      "right BottomX ->  864 540 , 682 436\n",
      "671 429 ,  682 436\n",
      "right BottomX ->  845 540 , 671 429\n",
      "594 381 ,  601 385\n",
      "right BottomX ->  872 540 , 594 381\n",
      "554 356 ,  563 361\n",
      "right BottomX ->  885 540 , 554 356\n",
      "557 357 ,  568 363\n",
      "right BottomX ->  892 540 , 557 357\n",
      "576 371 ,  587 377\n",
      "right BottomX ->  885 540 , 576 371\n",
      "586 377 ,  595 382\n",
      "right BottomX ->  879 540 , 586 377\n",
      "627 405 ,  637 411\n",
      "right BottomX ->  852 540 , 627 405\n",
      "581 375 ,  593 382\n",
      "right BottomX ->  863 540 , 581 375\n",
      "571 368 ,  586 377\n",
      "right BottomX ->  857 540 , 571 368\n",
      "603 387 ,  618 396\n",
      "right BottomX ->  858 540 , 603 387\n",
      "637 408 ,  649 416\n",
      "right BottomX ->  835 540 , 637 408\n"
     ]
    },
    {
     "name": "stderr",
     "output_type": "stream",
     "text": [
      " 68%|██████▊   | 462/682 [00:06<00:03, 71.05it/s]"
     ]
    },
    {
     "name": "stdout",
     "output_type": "stream",
     "text": [
      "685 439 ,  697 446\n",
      "right BottomX ->  858 540 , 685 439\n",
      "672 430 ,  682 436\n",
      "right BottomX ->  855 540 , 672 430\n",
      "693 441 ,  705 448\n",
      "right BottomX ->  862 540 , 693 441\n",
      "624 399 ,  635 405\n",
      "right BottomX ->  882 540 , 624 399\n",
      "539 345 ,  552 352\n",
      "right BottomX ->  901 540 , 539 345\n",
      "545 348 ,  556 355\n",
      "right BottomX ->  846 540 , 545 348\n",
      "574 367 ,  582 372\n",
      "right BottomX ->  850 540 , 574 367\n",
      "553 357 ,  564 362\n",
      "right BottomX ->  955 540 , 553 357\n",
      "593 382 ,  601 386\n",
      "right BottomX ->  909 540 , 593 382\n",
      "607 390 ,  616 395\n",
      "right BottomX ->  877 540 , 607 390\n",
      "563 360 ,  583 371\n",
      "right BottomX ->  890 540 , 563 360\n",
      "650 417 ,  661 423\n",
      "right BottomX ->  875 540 , 650 417\n",
      "685 438 ,  693 443\n",
      "right BottomX ->  848 540 , 685 438\n",
      "685 438 ,  697 445\n",
      "right BottomX ->  859 540 , 685 438\n"
     ]
    },
    {
     "name": "stderr",
     "output_type": "stream",
     "text": [
      " 70%|███████   | 478/682 [00:06<00:02, 72.37it/s]"
     ]
    },
    {
     "name": "stdout",
     "output_type": "stream",
     "text": [
      "638 408 ,  652 417\n",
      "right BottomX ->  843 540 , 638 408\n",
      "627 403 ,  640 410\n",
      "right BottomX ->  881 540 , 627 403\n",
      "543 357 ,  551 361\n",
      "right BottomX ->  909 540 , 543 357\n",
      "559 359 ,  574 368\n",
      "right BottomX ->  860 540 , 559 359\n",
      "550 361 ,  558 366\n",
      "right BottomX ->  836 540 , 550 361\n",
      "564 363 ,  577 370\n",
      "right BottomX ->  892 540 , 564 363\n",
      "586 378 ,  601 386\n",
      "right BottomX ->  889 540 , 586 378\n",
      "602 388 ,  611 393\n",
      "right BottomX ->  875 540 , 602 388\n",
      "598 385 ,  613 394\n",
      "right BottomX ->  856 540 , 598 385\n",
      "634 406 ,  647 414\n",
      "right BottomX ->  851 540 , 634 406\n",
      "664 426 ,  674 433\n",
      "right BottomX ->  826 540 , 664 426\n",
      "661 425 ,  673 433\n",
      "right BottomX ->  833 540 , 661 425\n",
      "658 423 ,  673 432\n",
      "right BottomX ->  853 540 , 658 423\n",
      "673 433 ,  684 440\n",
      "right BottomX ->  841 540 , 673 433\n",
      "547 354 ,  560 361\n",
      "right BottomX ->  892 540 , 547 354\n",
      "546 353 ,  557 360\n",
      "right BottomX ->  839 540 , 546 353\n"
     ]
    },
    {
     "name": "stderr",
     "output_type": "stream",
     "text": [
      " 73%|███████▎  | 495/682 [00:06<00:02, 75.38it/s]"
     ]
    },
    {
     "name": "stdout",
     "output_type": "stream",
     "text": [
      "547 354 ,  563 364\n",
      "right BottomX ->  844 540 , 547 354\n",
      "582 376 ,  591 381\n",
      "right BottomX ->  877 540 , 582 376\n",
      "559 361 ,  572 369\n",
      "right BottomX ->  849 540 , 559 361\n",
      "599 387 ,  609 393\n",
      "right BottomX ->  854 540 , 599 387\n",
      "613 396 ,  629 405\n",
      "right BottomX ->  869 540 , 613 396\n",
      "631 405 ,  650 416\n",
      "right BottomX ->  864 540 , 631 405\n",
      "649 415 ,  661 422\n",
      "right BottomX ->  863 540 , 649 415\n",
      "661 422 ,  672 430\n",
      "right BottomX ->  823 540 , 661 422\n",
      "704 452 ,  714 457\n",
      "right BottomX ->  880 540 , 704 452\n",
      "623 400 ,  636 408\n",
      "right BottomX ->  850 540 , 623 400\n",
      "571 366 ,  580 371\n",
      "right BottomX ->  884 540 , 571 366\n",
      "555 356 ,  563 361\n",
      "right BottomX ->  849 540 , 555 356\n",
      "562 360 ,  569 364\n",
      "right BottomX ->  877 540 , 562 360\n",
      "571 367 ,  580 372\n",
      "right BottomX ->  882 540 , 571 367\n",
      "589 376 ,  599 383\n",
      "right BottomX ->  823 540 , 589 376\n"
     ]
    },
    {
     "name": "stderr",
     "output_type": "stream",
     "text": [
      " 75%|███████▍  | 511/682 [00:06<00:02, 75.03it/s]"
     ]
    },
    {
     "name": "stdout",
     "output_type": "stream",
     "text": [
      "558 357 ,  571 364\n",
      "right BottomX ->  897 540 , 558 357\n",
      "590 378 ,  602 385\n",
      "right BottomX ->  867 540 , 590 378\n",
      "621 395 ,  630 400\n",
      "right BottomX ->  882 540 , 621 395\n",
      "607 387 ,  622 397\n",
      "right BottomX ->  836 540 , 607 387\n",
      "699 444 ,  712 452\n",
      "right BottomX ->  855 540 , 699 444\n",
      "660 420 ,  674 429\n",
      "right BottomX ->  846 540 , 660 420\n",
      "662 422 ,  676 431\n",
      "right BottomX ->  845 540 , 662 422\n",
      "596 380 ,  606 386\n",
      "right BottomX ->  862 540 , 596 380\n",
      "548 352 ,  559 358\n",
      "right BottomX ->  892 540 , 548 352\n",
      "557 357 ,  566 362\n",
      "right BottomX ->  886 540 , 557 357\n",
      "562 359 ,  572 366\n",
      "right BottomX ->  820 540 , 562 359\n",
      "574 367 ,  583 373\n",
      "right BottomX ->  833 540 , 574 367\n",
      "564 361 ,  581 371\n",
      "right BottomX ->  868 540 , 564 361\n",
      "600 385 ,  611 391\n",
      "right BottomX ->  884 540 , 600 385\n",
      "615 397 ,  626 403\n",
      "right BottomX ->  877 540 , 615 397\n",
      "623 401 ,  633 407\n",
      "right BottomX ->  854 540 , 623 401\n"
     ]
    },
    {
     "name": "stderr",
     "output_type": "stream",
     "text": [
      " 77%|███████▋  | 527/682 [00:07<00:02, 74.88it/s]"
     ]
    },
    {
     "name": "stdout",
     "output_type": "stream",
     "text": [
      "674 434 ,  686 441\n",
      "right BottomX ->  855 540 , 674 434\n",
      "706 454 ,  716 459\n",
      "right BottomX ->  878 540 , 706 454\n",
      "690 444 ,  701 450\n",
      "right BottomX ->  866 540 , 690 444\n",
      "634 407 ,  642 412\n",
      "right BottomX ->  846 540 , 634 407\n",
      "553 356 ,  562 363\n",
      "right BottomX ->  789 540 , 553 356\n",
      "542 348 ,  555 356\n",
      "right BottomX ->  854 540 , 542 348\n",
      "549 352 ,  559 360\n",
      "right BottomX ->  784 540 , 549 352\n",
      "579 373 ,  591 381\n",
      "right BottomX ->  829 540 , 579 373\n",
      "606 390 ,  616 397\n",
      "right BottomX ->  820 540 , 606 390\n",
      "579 373 ,  594 381\n",
      "right BottomX ->  892 540 , 579 373\n",
      "626 401 ,  636 407\n",
      "right BottomX ->  857 540 , 626 401\n",
      "655 421 ,  668 428\n",
      "right BottomX ->  876 540 , 655 421\n",
      "662 424 ,  674 431\n",
      "right BottomX ->  860 540 , 662 424\n",
      "704 450 ,  712 455\n",
      "right BottomX ->  848 540 , 704 450\n",
      "710 454 ,  722 461\n",
      "right BottomX ->  857 540 , 710 454\n",
      "674 432 ,  689 441\n",
      "right BottomX ->  854 540 , 674 432\n"
     ]
    },
    {
     "name": "stderr",
     "output_type": "stream",
     "text": [
      " 80%|███████▉  | 543/682 [00:07<00:01, 74.10it/s]"
     ]
    },
    {
     "name": "stdout",
     "output_type": "stream",
     "text": [
      "585 375 ,  594 380\n",
      "right BottomX ->  882 540 , 585 375\n",
      "584 374 ,  592 379\n",
      "right BottomX ->  849 540 , 584 374\n",
      "563 361 ,  575 368\n",
      "right BottomX ->  869 540 , 563 361\n",
      "551 352 ,  565 361\n",
      "right BottomX ->  843 540 , 551 352\n",
      "619 397 ,  629 403\n",
      "right BottomX ->  857 540 , 619 397\n",
      "609 389 ,  618 394\n",
      "right BottomX ->  880 540 , 609 389\n",
      "625 399 ,  633 404\n",
      "right BottomX ->  850 540 , 625 399\n",
      "638 407 ,  651 414\n",
      "right BottomX ->  885 540 , 638 407\n",
      "682 435 ,  692 442\n",
      "right BottomX ->  832 540 , 682 435\n",
      "699 446 ,  714 455\n",
      "right BottomX ->  855 540 , 699 446\n",
      "694 444 ,  704 449\n",
      "right BottomX ->  886 540 , 694 444\n",
      "685 435 ,  697 443\n",
      "right BottomX ->  842 540 , 685 435\n",
      "651 415 ,  659 420\n",
      "right BottomX ->  851 540 , 651 415\n",
      "564 362 ,  575 368\n",
      "right BottomX ->  890 540 , 564 362\n",
      "563 358 ,  576 366\n",
      "right BottomX ->  858 540 , 563 358\n",
      "573 364 ,  583 370\n",
      "right BottomX ->  866 540 , 573 364\n"
     ]
    },
    {
     "name": "stderr",
     "output_type": "stream",
     "text": [
      " 82%|████████▏ | 559/682 [00:07<00:01, 76.36it/s]"
     ]
    },
    {
     "name": "stdout",
     "output_type": "stream",
     "text": [
      "625 397 ,  632 401\n",
      "right BottomX ->  875 540 , 625 397\n",
      "603 384 ,  611 388\n",
      "right BottomX ->  915 540 , 603 384\n",
      "602 384 ,  611 389\n",
      "right BottomX ->  882 540 , 602 384\n",
      "602 381 ,  616 390\n",
      "right BottomX ->  849 540 , 602 381\n",
      "660 419 ,  670 424\n",
      "right BottomX ->  902 540 , 660 419\n",
      "697 441 ,  707 447\n",
      "right BottomX ->  862 540 , 697 441\n",
      "699 442 ,  711 449\n",
      "right BottomX ->  867 540 , 699 442\n",
      "661 417 ,  677 426\n",
      "right BottomX ->  879 540 , 661 417\n",
      "687 435 ,  698 441\n",
      "right BottomX ->  879 540 , 687 435\n",
      "555 352 ,  566 359\n",
      "right BottomX ->  850 540 , 555 352\n",
      "571 363 ,  584 372\n",
      "right BottomX ->  826 540 , 571 363\n",
      "548 349 ,  560 355\n",
      "right BottomX ->  930 540 , 548 349\n",
      "595 376 ,  607 384\n",
      "right BottomX ->  841 540 , 595 376\n",
      "589 373 ,  602 381\n",
      "right BottomX ->  860 540 , 589 373\n",
      "592 374 ,  604 380\n",
      "right BottomX ->  924 540 , 592 374\n",
      "617 391 ,  627 396\n",
      "right BottomX ->  915 540 , 617 391\n",
      "630 397 ,  640 403\n",
      "right BottomX ->  868 540 , 630 397\n"
     ]
    },
    {
     "name": "stderr",
     "output_type": "stream",
     "text": [
      " 84%|████████▍ | 575/682 [00:07<00:01, 73.58it/s]"
     ]
    },
    {
     "name": "stdout",
     "output_type": "stream",
     "text": [
      "695 438 ,  706 444\n",
      "right BottomX ->  882 540 , 695 438\n",
      "703 442 ,  719 452\n",
      "right BottomX ->  859 540 , 703 442\n",
      "713 447 ,  722 452\n",
      "right BottomX ->  880 540 , 713 447\n",
      "687 432 ,  698 438\n",
      "right BottomX ->  885 540 , 687 432\n",
      "608 384 ,  619 389\n",
      "right BottomX ->  951 540 , 608 384\n",
      "547 344 ,  556 350\n",
      "right BottomX ->  841 540 , 547 344\n",
      "571 360 ,  582 366\n",
      "right BottomX ->  901 540 , 571 360\n",
      "601 379 ,  614 386\n",
      "right BottomX ->  900 540 , 601 379\n",
      "613 386 ,  627 394\n",
      "right BottomX ->  882 540 , 613 386\n",
      "578 364 ,  594 374\n",
      "right BottomX ->  859 540 , 578 364\n",
      "607 381 ,  620 389\n",
      "right BottomX ->  865 540 , 607 381\n",
      "623 390 ,  634 397\n",
      "right BottomX ->  858 540 , 623 390\n",
      "656 410 ,  667 416\n",
      "right BottomX ->  894 540 , 656 410\n",
      "715 444 ,  728 452\n",
      "right BottomX ->  871 540 , 715 444\n",
      "722 450 ,  732 456\n",
      "right BottomX ->  872 540 , 722 450\n"
     ]
    },
    {
     "name": "stderr",
     "output_type": "stream",
     "text": [
      "\r",
      " 85%|████████▌ | 583/682 [00:07<00:01, 73.10it/s]"
     ]
    },
    {
     "name": "stdout",
     "output_type": "stream",
     "text": [
      "696 432 ,  709 440\n",
      "right BottomX ->  871 540 , 696 432\n",
      "681 423 ,  692 429\n",
      "right BottomX ->  895 540 , 681 423\n",
      "584 366 ,  594 372\n",
      "right BottomX ->  874 540 , 584 366\n",
      "574 359 ,  585 365\n",
      "right BottomX ->  905 540 , 574 359\n",
      "564 353 ,  576 360\n",
      "right BottomX ->  884 540 , 564 353\n",
      "609 381 ,  619 387\n",
      "right BottomX ->  874 540 , 609 381\n",
      "624 390 ,  633 395\n",
      "right BottomX ->  894 540 , 624 390\n",
      "584 366 ,  598 374\n",
      "right BottomX ->  888 540 , 584 366\n",
      "646 402 ,  658 409\n",
      "right BottomX ->  882 540 , 646 402\n",
      "653 406 ,  670 416\n",
      "right BottomX ->  880 540 , 653 406\n",
      "700 435 ,  709 440\n",
      "right BottomX ->  889 540 , 700 435\n",
      "693 431 ,  707 438\n",
      "right BottomX ->  911 540 , 693 431\n",
      "659 410 ,  675 418\n",
      "right BottomX ->  919 540 , 659 410\n",
      "738 458 ,  753 466\n",
      "right BottomX ->  891 540 , 738 458\n",
      "598 376 ,  608 382\n",
      "right BottomX ->  871 540 , 598 376\n"
     ]
    },
    {
     "name": "stderr",
     "output_type": "stream",
     "text": [
      " 88%|████████▊ | 599/682 [00:08<00:01, 70.65it/s]"
     ]
    },
    {
     "name": "stdout",
     "output_type": "stream",
     "text": [
      "555 351 ,  566 358\n",
      "right BottomX ->  852 540 , 555 351\n",
      "582 370 ,  591 375\n",
      "right BottomX ->  888 540 , 582 370\n",
      "578 367 ,  587 372\n",
      "right BottomX ->  889 540 , 578 367\n",
      "641 406 ,  653 412\n",
      "right BottomX ->  909 540 , 641 406\n",
      "598 381 ,  609 387\n",
      "right BottomX ->  889 540 , 598 381\n",
      "612 390 ,  622 395\n",
      "right BottomX ->  912 540 , 612 390\n",
      "652 411 ,  662 417\n",
      "right BottomX ->  867 540 , 652 411\n",
      "656 413 ,  667 419\n",
      "right BottomX ->  888 540 , 656 413\n",
      "701 439 ,  711 444\n",
      "right BottomX ->  903 540 , 701 439\n",
      "707 441 ,  722 449\n",
      "right BottomX ->  892 540 , 707 441\n",
      "694 433 ,  707 440\n",
      "right BottomX ->  892 540 , 694 433\n",
      "625 391 ,  637 398\n",
      "right BottomX ->  880 540 , 625 391\n",
      "587 368 ,  597 373\n",
      "right BottomX ->  931 540 , 587 368\n",
      "564 355 ,  575 362\n",
      "right BottomX ->  854 540 , 564 355\n",
      "622 390 ,  630 394\n",
      "right BottomX ->  922 540 , 622 390\n"
     ]
    },
    {
     "name": "stderr",
     "output_type": "stream",
     "text": [
      " 90%|█████████ | 616/682 [00:08<00:00, 73.88it/s]"
     ]
    },
    {
     "name": "stdout",
     "output_type": "stream",
     "text": [
      "605 381 ,  619 389\n",
      "right BottomX ->  883 540 , 605 381\n",
      "588 371 ,  599 377\n",
      "right BottomX ->  897 540 , 588 371\n",
      "592 374 ,  605 381\n",
      "right BottomX ->  900 540 , 592 374\n",
      "612 385 ,  626 393\n",
      "right BottomX ->  883 540 , 612 385\n",
      "674 421 ,  686 428\n",
      "right BottomX ->  878 540 , 674 421\n",
      "673 419 ,  688 428\n",
      "right BottomX ->  874 540 , 673 419\n",
      "676 430 ,  688 437\n",
      "right BottomX ->  864 540 , 676 430\n",
      "679 422 ,  692 429\n",
      "right BottomX ->  898 540 , 679 422\n",
      "695 434 ,  703 438\n",
      "right BottomX ->  907 540 , 695 434\n",
      "547 348 ,  561 355\n",
      "right BottomX ->  931 540 , 547 348\n",
      "566 358 ,  575 363\n",
      "right BottomX ->  893 540 , 566 358\n",
      "561 355 ,  571 360\n",
      "right BottomX ->  931 540 , 561 355\n",
      "578 365 ,  594 374\n",
      "right BottomX ->  889 540 , 578 365\n",
      "634 398 ,  643 403\n",
      "right BottomX ->  889 540 , 634 398\n",
      "611 383 ,  622 389\n",
      "right BottomX ->  898 540 , 611 383\n"
     ]
    },
    {
     "name": "stderr",
     "output_type": "stream",
     "text": [
      " 93%|█████████▎| 633/682 [00:08<00:00, 73.79it/s]"
     ]
    },
    {
     "name": "stdout",
     "output_type": "stream",
     "text": [
      "628 394 ,  640 400\n",
      "right BottomX ->  920 540 , 628 394\n",
      "633 395 ,  647 403\n",
      "right BottomX ->  886 540 , 633 395\n",
      "671 417 ,  681 422\n",
      "right BottomX ->  917 540 , 671 417\n",
      "608 379 ,  634 394\n",
      "right BottomX ->  887 540 , 608 379\n",
      "668 415 ,  682 423\n",
      "right BottomX ->  886 540 , 668 415\n",
      "634 396 ,  646 402\n",
      "right BottomX ->  922 540 , 634 396\n",
      "573 361 ,  583 365\n",
      "right BottomX ->  1020 540 , 573 361\n",
      "557 352 ,  565 356\n",
      "right BottomX ->  933 540 , 557 352\n",
      "575 363 ,  584 368\n",
      "right BottomX ->  893 540 , 575 363\n",
      "597 376 ,  606 381\n",
      "right BottomX ->  892 540 , 597 376\n",
      "601 378 ,  617 387\n",
      "right BottomX ->  889 540 , 601 378\n",
      "597 377 ,  614 387\n",
      "right BottomX ->  874 540 , 597 377\n",
      "610 382 ,  625 391\n",
      "right BottomX ->  873 540 , 610 382\n",
      "659 411 ,  668 416\n",
      "right BottomX ->  891 540 , 659 411\n",
      "659 411 ,  671 417\n",
      "right BottomX ->  917 540 , 659 411\n",
      "708 440 ,  724 448\n",
      "right BottomX ->  908 540 , 708 440\n"
     ]
    },
    {
     "name": "stderr",
     "output_type": "stream",
     "text": [
      " 95%|█████████▌| 649/682 [00:08<00:00, 72.79it/s]"
     ]
    },
    {
     "name": "stdout",
     "output_type": "stream",
     "text": [
      "663 416 ,  676 422\n",
      "right BottomX ->  931 540 , 663 416\n",
      "682 426 ,  694 432\n",
      "right BottomX ->  910 540 , 682 426\n",
      "619 390 ,  630 395\n",
      "right BottomX ->  949 540 , 619 390\n",
      "546 349 ,  557 353\n",
      "right BottomX ->  1071 540 , 546 349\n",
      "552 352 ,  565 360\n",
      "right BottomX ->  857 540 , 552 352\n",
      "583 370 ,  592 375\n",
      "right BottomX ->  889 540 , 583 370\n",
      "601 380 ,  611 386\n",
      "right BottomX ->  867 540 , 601 380\n",
      "611 384 ,  625 392\n",
      "right BottomX ->  884 540 , 611 384\n",
      "598 377 ,  609 383\n",
      "right BottomX ->  896 540 , 598 377\n",
      "610 386 ,  621 392\n",
      "right BottomX ->  892 540 , 610 386\n",
      "622 394 ,  639 403\n",
      "right BottomX ->  897 540 , 622 394\n",
      "673 424 ,  693 435\n",
      "right BottomX ->  883 540 , 673 424\n",
      "688 432 ,  702 439\n",
      "right BottomX ->  904 540 , 688 432\n",
      "617 390 ,  638 402\n",
      "right BottomX ->  879 540 , 617 390\n",
      "649 409 ,  662 416\n",
      "right BottomX ->  892 540 , 649 409\n",
      "533 342 ,  544 348\n",
      "right BottomX ->  896 540 , 533 342\n"
     ]
    },
    {
     "name": "stderr",
     "output_type": "stream",
     "text": [
      " 98%|█████████▊| 665/682 [00:09<00:00, 73.22it/s]"
     ]
    },
    {
     "name": "stdout",
     "output_type": "stream",
     "text": [
      "567 359 ,  577 365\n",
      "right BottomX ->  868 540 , 567 359\n",
      "567 359 ,  581 368\n",
      "right BottomX ->  848 540 , 567 359\n",
      "582 369 ,  592 374\n",
      "right BottomX ->  924 540 , 582 369\n",
      "571 364 ,  590 374\n",
      "right BottomX ->  905 540 , 571 364\n",
      "578 378 ,  590 385\n",
      "right BottomX ->  855 540 , 578 378\n",
      "582 369 ,  605 382\n",
      "right BottomX ->  884 540 , 582 369\n",
      "634 400 ,  645 407\n",
      "right BottomX ->  854 540 , 634 400\n",
      "686 433 ,  696 438\n",
      "right BottomX ->  900 540 , 686 433\n",
      "692 438 ,  704 445\n",
      "right BottomX ->  866 540 , 692 438\n",
      "724 457 ,  738 465\n",
      "right BottomX ->  869 540 , 724 457\n",
      "674 424 ,  685 430\n",
      "right BottomX ->  886 540 , 674 424\n",
      "651 410 ,  661 416\n",
      "right BottomX ->  867 540 , 651 410\n",
      "535 340 ,  546 346\n",
      "right BottomX ->  901 540 , 535 340\n",
      "570 362 ,  581 368\n",
      "right BottomX ->  896 540 , 570 362\n",
      "607 384 ,  617 389\n",
      "right BottomX ->  919 540 , 607 384\n"
     ]
    },
    {
     "name": "stderr",
     "output_type": "stream",
     "text": [
      "100%|█████████▉| 681/682 [00:09<00:00, 73.06it/s]"
     ]
    },
    {
     "name": "stdout",
     "output_type": "stream",
     "text": [
      "647 409 ,  657 414\n",
      "right BottomX ->  909 540 , 647 409\n",
      "611 386 ,  620 392\n",
      "right BottomX ->  842 540 , 611 386\n",
      "632 399 ,  641 404\n",
      "right BottomX ->  885 540 , 632 399\n",
      "644 408 ,  655 414\n",
      "right BottomX ->  886 540 , 644 408\n",
      "640 405 ,  651 410\n",
      "right BottomX ->  937 540 , 640 405\n",
      "706 445 ,  715 450\n",
      "right BottomX ->  877 540 , 706 445\n",
      "713 450 ,  723 456\n",
      "right BottomX ->  863 540 , 713 450\n",
      "735 464 ,  745 469\n",
      "right BottomX ->  887 540 , 735 464\n",
      "676 428 ,  689 435\n",
      "right BottomX ->  884 540 , 676 428\n",
      "572 365 ,  583 371\n",
      "right BottomX ->  892 540 , 572 365\n",
      "588 374 ,  597 379\n",
      "right BottomX ->  886 540 , 588 374\n",
      "588 374 ,  598 381\n",
      "right BottomX ->  825 540 , 588 374\n",
      "608 389 ,  618 394\n",
      "right BottomX ->  910 540 , 608 389\n",
      "631 402 ,  640 407\n",
      "right BottomX ->  879 540 , 631 402\n"
     ]
    },
    {
     "name": "stderr",
     "output_type": "stream",
     "text": [
      "\n"
     ]
    },
    {
     "name": "stdout",
     "output_type": "stream",
     "text": [
      "[MoviePy] Done.\n",
      "[MoviePy] >>>> Video ready: yellow.mp4 \n",
      "\n",
      "CPU times: user 7.06 s, sys: 1.81 s, total: 8.87 s\n",
      "Wall time: 9.73 s\n"
     ]
    }
   ],
   "source": [
    "yellow_output = 'yellow.mp4'\n",
    "clip2 = VideoFileClip('solidYellowLeft.mp4')\n",
    "yellow_clip = clip2.fl_image(process_image)\n",
    "%time yellow_clip.write_videofile(yellow_output, audio=False)"
   ]
  },
  {
   "cell_type": "code",
   "execution_count": 10,
   "metadata": {
    "collapsed": false
   },
   "outputs": [
    {
     "data": {
      "text/html": [
       "\n",
       "<video width=\"960\" height=\"540\" controls>\n",
       "  <source src=\"yellow.mp4\">\n",
       "</video>\n"
      ],
      "text/plain": [
       "<IPython.core.display.HTML object>"
      ]
     },
     "execution_count": 10,
     "metadata": {},
     "output_type": "execute_result"
    }
   ],
   "source": [
    "HTML(\"\"\"\n",
    "<video width=\"960\" height=\"540\" controls>\n",
    "  <source src=\"{0}\">\n",
    "</video>\n",
    "\"\"\".format(yellow_output))"
   ]
  },
  {
   "cell_type": "markdown",
   "metadata": {},
   "source": [
    "## Reflections\n",
    "\n",
    "Congratulations on finding the lane lines!  As the final step in this project, we would like you to share your thoughts on your lane finding pipeline... specifically, how could you imagine making your algorithm better / more robust?  Where will your current algorithm be likely to fail?\n",
    "\n",
    "Please add your thoughts below,  and if you're up for making your pipeline more robust, be sure to scroll down and check out the optional challenge video below!\n"
   ]
  },
  {
   "cell_type": "markdown",
   "metadata": {},
   "source": [
    "## Submission\n",
    "\n",
    "If you're satisfied with your video outputs it's time to submit!  Submit this ipython notebook for review.\n"
   ]
  },
  {
   "cell_type": "markdown",
   "metadata": {
    "collapsed": true
   },
   "source": [
    "## Optional Challenge\n",
    "\n",
    "Try your lane finding pipeline on the video below.  Does it still work?  Can you figure out a way to make it more robust?  If you're up for the challenge, modify your pipeline so it works with this video and submit it along with the rest of your project!"
   ]
  },
  {
   "cell_type": "code",
   "execution_count": 11,
   "metadata": {
    "collapsed": false
   },
   "outputs": [
    {
     "name": "stdout",
     "output_type": "stream",
     "text": [
      "482 364 ,  491 367\n",
      "right BottomX ->  1010 540 , 482 364\n",
      "[MoviePy] >>>> Building video extra.mp4\n",
      "[MoviePy] Writing video extra.mp4\n"
     ]
    },
    {
     "name": "stderr",
     "output_type": "stream",
     "text": [
      "\r",
      "  0%|          | 0/251 [00:00<?, ?it/s]"
     ]
    },
    {
     "name": "stdout",
     "output_type": "stream",
     "text": [
      "482 364 ,  491 367\n",
      "right BottomX ->  1010 540 , 482 364\n",
      "486 389 ,  491 393\n",
      "right BottomX ->  674 540 , 486 389\n",
      "463 374 ,  468 376\n",
      "right BottomX ->  878 540 , 463 374\n"
     ]
    },
    {
     "ename": "ZeroDivisionError",
     "evalue": "division by zero",
     "output_type": "error",
     "traceback": [
      "\u001b[0;31m---------------------------------------------------------------------------\u001b[0m",
      "\u001b[0;31mZeroDivisionError\u001b[0m                         Traceback (most recent call last)",
      "\u001b[0;32m<ipython-input-11-acb715cf3d57>\u001b[0m in \u001b[0;36m<module>\u001b[0;34m()\u001b[0m\n\u001b[1;32m      2\u001b[0m \u001b[0mclip2\u001b[0m \u001b[0;34m=\u001b[0m \u001b[0mVideoFileClip\u001b[0m\u001b[0;34m(\u001b[0m\u001b[0;34m'challenge.mp4'\u001b[0m\u001b[0;34m)\u001b[0m\u001b[0;34m\u001b[0m\u001b[0m\n\u001b[1;32m      3\u001b[0m \u001b[0mchallenge_clip\u001b[0m \u001b[0;34m=\u001b[0m \u001b[0mclip2\u001b[0m\u001b[0;34m.\u001b[0m\u001b[0mfl_image\u001b[0m\u001b[0;34m(\u001b[0m\u001b[0mprocess_image\u001b[0m\u001b[0;34m)\u001b[0m\u001b[0;34m\u001b[0m\u001b[0m\n\u001b[0;32m----> 4\u001b[0;31m \u001b[0mget_ipython\u001b[0m\u001b[0;34m(\u001b[0m\u001b[0;34m)\u001b[0m\u001b[0;34m.\u001b[0m\u001b[0mmagic\u001b[0m\u001b[0;34m(\u001b[0m\u001b[0;34m'time challenge_clip.write_videofile(challenge_output, audio=False)'\u001b[0m\u001b[0;34m)\u001b[0m\u001b[0;34m\u001b[0m\u001b[0m\n\u001b[0m",
      "\u001b[0;32m/Users/mayaesha/anaconda3/lib/python3.5/site-packages/IPython/core/interactiveshell.py\u001b[0m in \u001b[0;36mmagic\u001b[0;34m(self, arg_s)\u001b[0m\n\u001b[1;32m   2156\u001b[0m         \u001b[0mmagic_name\u001b[0m\u001b[0;34m,\u001b[0m \u001b[0m_\u001b[0m\u001b[0;34m,\u001b[0m \u001b[0mmagic_arg_s\u001b[0m \u001b[0;34m=\u001b[0m \u001b[0marg_s\u001b[0m\u001b[0;34m.\u001b[0m\u001b[0mpartition\u001b[0m\u001b[0;34m(\u001b[0m\u001b[0;34m' '\u001b[0m\u001b[0;34m)\u001b[0m\u001b[0;34m\u001b[0m\u001b[0m\n\u001b[1;32m   2157\u001b[0m         \u001b[0mmagic_name\u001b[0m \u001b[0;34m=\u001b[0m \u001b[0mmagic_name\u001b[0m\u001b[0;34m.\u001b[0m\u001b[0mlstrip\u001b[0m\u001b[0;34m(\u001b[0m\u001b[0mprefilter\u001b[0m\u001b[0;34m.\u001b[0m\u001b[0mESC_MAGIC\u001b[0m\u001b[0;34m)\u001b[0m\u001b[0;34m\u001b[0m\u001b[0m\n\u001b[0;32m-> 2158\u001b[0;31m         \u001b[0;32mreturn\u001b[0m \u001b[0mself\u001b[0m\u001b[0;34m.\u001b[0m\u001b[0mrun_line_magic\u001b[0m\u001b[0;34m(\u001b[0m\u001b[0mmagic_name\u001b[0m\u001b[0;34m,\u001b[0m \u001b[0mmagic_arg_s\u001b[0m\u001b[0;34m)\u001b[0m\u001b[0;34m\u001b[0m\u001b[0m\n\u001b[0m\u001b[1;32m   2159\u001b[0m \u001b[0;34m\u001b[0m\u001b[0m\n\u001b[1;32m   2160\u001b[0m     \u001b[0;31m#-------------------------------------------------------------------------\u001b[0m\u001b[0;34m\u001b[0m\u001b[0;34m\u001b[0m\u001b[0m\n",
      "\u001b[0;32m/Users/mayaesha/anaconda3/lib/python3.5/site-packages/IPython/core/interactiveshell.py\u001b[0m in \u001b[0;36mrun_line_magic\u001b[0;34m(self, magic_name, line)\u001b[0m\n\u001b[1;32m   2077\u001b[0m                 \u001b[0mkwargs\u001b[0m\u001b[0;34m[\u001b[0m\u001b[0;34m'local_ns'\u001b[0m\u001b[0;34m]\u001b[0m \u001b[0;34m=\u001b[0m \u001b[0msys\u001b[0m\u001b[0;34m.\u001b[0m\u001b[0m_getframe\u001b[0m\u001b[0;34m(\u001b[0m\u001b[0mstack_depth\u001b[0m\u001b[0;34m)\u001b[0m\u001b[0;34m.\u001b[0m\u001b[0mf_locals\u001b[0m\u001b[0;34m\u001b[0m\u001b[0m\n\u001b[1;32m   2078\u001b[0m             \u001b[0;32mwith\u001b[0m \u001b[0mself\u001b[0m\u001b[0;34m.\u001b[0m\u001b[0mbuiltin_trap\u001b[0m\u001b[0;34m:\u001b[0m\u001b[0;34m\u001b[0m\u001b[0m\n\u001b[0;32m-> 2079\u001b[0;31m                 \u001b[0mresult\u001b[0m \u001b[0;34m=\u001b[0m \u001b[0mfn\u001b[0m\u001b[0;34m(\u001b[0m\u001b[0;34m*\u001b[0m\u001b[0margs\u001b[0m\u001b[0;34m,\u001b[0m\u001b[0;34m**\u001b[0m\u001b[0mkwargs\u001b[0m\u001b[0;34m)\u001b[0m\u001b[0;34m\u001b[0m\u001b[0m\n\u001b[0m\u001b[1;32m   2080\u001b[0m             \u001b[0;32mreturn\u001b[0m \u001b[0mresult\u001b[0m\u001b[0;34m\u001b[0m\u001b[0m\n\u001b[1;32m   2081\u001b[0m \u001b[0;34m\u001b[0m\u001b[0m\n",
      "\u001b[0;32m<decorator-gen-59>\u001b[0m in \u001b[0;36mtime\u001b[0;34m(self, line, cell, local_ns)\u001b[0m\n",
      "\u001b[0;32m/Users/mayaesha/anaconda3/lib/python3.5/site-packages/IPython/core/magic.py\u001b[0m in \u001b[0;36m<lambda>\u001b[0;34m(f, *a, **k)\u001b[0m\n\u001b[1;32m    186\u001b[0m     \u001b[0;31m# but it's overkill for just that one bit of state.\u001b[0m\u001b[0;34m\u001b[0m\u001b[0;34m\u001b[0m\u001b[0m\n\u001b[1;32m    187\u001b[0m     \u001b[0;32mdef\u001b[0m \u001b[0mmagic_deco\u001b[0m\u001b[0;34m(\u001b[0m\u001b[0marg\u001b[0m\u001b[0;34m)\u001b[0m\u001b[0;34m:\u001b[0m\u001b[0;34m\u001b[0m\u001b[0m\n\u001b[0;32m--> 188\u001b[0;31m         \u001b[0mcall\u001b[0m \u001b[0;34m=\u001b[0m \u001b[0;32mlambda\u001b[0m \u001b[0mf\u001b[0m\u001b[0;34m,\u001b[0m \u001b[0;34m*\u001b[0m\u001b[0ma\u001b[0m\u001b[0;34m,\u001b[0m \u001b[0;34m**\u001b[0m\u001b[0mk\u001b[0m\u001b[0;34m:\u001b[0m \u001b[0mf\u001b[0m\u001b[0;34m(\u001b[0m\u001b[0;34m*\u001b[0m\u001b[0ma\u001b[0m\u001b[0;34m,\u001b[0m \u001b[0;34m**\u001b[0m\u001b[0mk\u001b[0m\u001b[0;34m)\u001b[0m\u001b[0;34m\u001b[0m\u001b[0m\n\u001b[0m\u001b[1;32m    189\u001b[0m \u001b[0;34m\u001b[0m\u001b[0m\n\u001b[1;32m    190\u001b[0m         \u001b[0;32mif\u001b[0m \u001b[0mcallable\u001b[0m\u001b[0;34m(\u001b[0m\u001b[0marg\u001b[0m\u001b[0;34m)\u001b[0m\u001b[0;34m:\u001b[0m\u001b[0;34m\u001b[0m\u001b[0m\n",
      "\u001b[0;32m/Users/mayaesha/anaconda3/lib/python3.5/site-packages/IPython/core/magics/execution.py\u001b[0m in \u001b[0;36mtime\u001b[0;34m(self, line, cell, local_ns)\u001b[0m\n\u001b[1;32m   1174\u001b[0m         \u001b[0;32mif\u001b[0m \u001b[0mmode\u001b[0m\u001b[0;34m==\u001b[0m\u001b[0;34m'eval'\u001b[0m\u001b[0;34m:\u001b[0m\u001b[0;34m\u001b[0m\u001b[0m\n\u001b[1;32m   1175\u001b[0m             \u001b[0mst\u001b[0m \u001b[0;34m=\u001b[0m \u001b[0mclock2\u001b[0m\u001b[0;34m(\u001b[0m\u001b[0;34m)\u001b[0m\u001b[0;34m\u001b[0m\u001b[0m\n\u001b[0;32m-> 1176\u001b[0;31m             \u001b[0mout\u001b[0m \u001b[0;34m=\u001b[0m \u001b[0meval\u001b[0m\u001b[0;34m(\u001b[0m\u001b[0mcode\u001b[0m\u001b[0;34m,\u001b[0m \u001b[0mglob\u001b[0m\u001b[0;34m,\u001b[0m \u001b[0mlocal_ns\u001b[0m\u001b[0;34m)\u001b[0m\u001b[0;34m\u001b[0m\u001b[0m\n\u001b[0m\u001b[1;32m   1177\u001b[0m             \u001b[0mend\u001b[0m \u001b[0;34m=\u001b[0m \u001b[0mclock2\u001b[0m\u001b[0;34m(\u001b[0m\u001b[0;34m)\u001b[0m\u001b[0;34m\u001b[0m\u001b[0m\n\u001b[1;32m   1178\u001b[0m         \u001b[0;32melse\u001b[0m\u001b[0;34m:\u001b[0m\u001b[0;34m\u001b[0m\u001b[0m\n",
      "\u001b[0;32m<timed eval>\u001b[0m in \u001b[0;36m<module>\u001b[0;34m()\u001b[0m\n",
      "\u001b[0;32m<decorator-gen-172>\u001b[0m in \u001b[0;36mwrite_videofile\u001b[0;34m(self, filename, fps, codec, bitrate, audio, audio_fps, preset, audio_nbytes, audio_codec, audio_bitrate, audio_bufsize, temp_audiofile, rewrite_audio, remove_temp, write_logfile, verbose, threads, ffmpeg_params)\u001b[0m\n",
      "\u001b[0;32m/Users/mayaesha/anaconda3/lib/python3.5/site-packages/moviepy/decorators.py\u001b[0m in \u001b[0;36mrequires_duration\u001b[0;34m(f, clip, *a, **k)\u001b[0m\n\u001b[1;32m     52\u001b[0m         \u001b[0;32mraise\u001b[0m \u001b[0mValueError\u001b[0m\u001b[0;34m(\u001b[0m\u001b[0;34m\"Attribute 'duration' not set\"\u001b[0m\u001b[0;34m)\u001b[0m\u001b[0;34m\u001b[0m\u001b[0m\n\u001b[1;32m     53\u001b[0m     \u001b[0;32melse\u001b[0m\u001b[0;34m:\u001b[0m\u001b[0;34m\u001b[0m\u001b[0m\n\u001b[0;32m---> 54\u001b[0;31m         \u001b[0;32mreturn\u001b[0m \u001b[0mf\u001b[0m\u001b[0;34m(\u001b[0m\u001b[0mclip\u001b[0m\u001b[0;34m,\u001b[0m \u001b[0;34m*\u001b[0m\u001b[0ma\u001b[0m\u001b[0;34m,\u001b[0m \u001b[0;34m**\u001b[0m\u001b[0mk\u001b[0m\u001b[0;34m)\u001b[0m\u001b[0;34m\u001b[0m\u001b[0m\n\u001b[0m\u001b[1;32m     55\u001b[0m \u001b[0;34m\u001b[0m\u001b[0m\n\u001b[1;32m     56\u001b[0m \u001b[0;34m\u001b[0m\u001b[0m\n",
      "\u001b[0;32m<decorator-gen-171>\u001b[0m in \u001b[0;36mwrite_videofile\u001b[0;34m(self, filename, fps, codec, bitrate, audio, audio_fps, preset, audio_nbytes, audio_codec, audio_bitrate, audio_bufsize, temp_audiofile, rewrite_audio, remove_temp, write_logfile, verbose, threads, ffmpeg_params)\u001b[0m\n",
      "\u001b[0;32m/Users/mayaesha/anaconda3/lib/python3.5/site-packages/moviepy/decorators.py\u001b[0m in \u001b[0;36muse_clip_fps_by_default\u001b[0;34m(f, clip, *a, **k)\u001b[0m\n\u001b[1;32m    135\u001b[0m              for (k,v) in k.items()}\n\u001b[1;32m    136\u001b[0m \u001b[0;34m\u001b[0m\u001b[0m\n\u001b[0;32m--> 137\u001b[0;31m     \u001b[0;32mreturn\u001b[0m \u001b[0mf\u001b[0m\u001b[0;34m(\u001b[0m\u001b[0mclip\u001b[0m\u001b[0;34m,\u001b[0m \u001b[0;34m*\u001b[0m\u001b[0mnew_a\u001b[0m\u001b[0;34m,\u001b[0m \u001b[0;34m**\u001b[0m\u001b[0mnew_kw\u001b[0m\u001b[0;34m)\u001b[0m\u001b[0;34m\u001b[0m\u001b[0m\n\u001b[0m",
      "\u001b[0;32m<decorator-gen-170>\u001b[0m in \u001b[0;36mwrite_videofile\u001b[0;34m(self, filename, fps, codec, bitrate, audio, audio_fps, preset, audio_nbytes, audio_codec, audio_bitrate, audio_bufsize, temp_audiofile, rewrite_audio, remove_temp, write_logfile, verbose, threads, ffmpeg_params)\u001b[0m\n",
      "\u001b[0;32m/Users/mayaesha/anaconda3/lib/python3.5/site-packages/moviepy/decorators.py\u001b[0m in \u001b[0;36mconvert_masks_to_RGB\u001b[0;34m(f, clip, *a, **k)\u001b[0m\n\u001b[1;32m     20\u001b[0m     \u001b[0;32mif\u001b[0m \u001b[0mclip\u001b[0m\u001b[0;34m.\u001b[0m\u001b[0mismask\u001b[0m\u001b[0;34m:\u001b[0m\u001b[0;34m\u001b[0m\u001b[0m\n\u001b[1;32m     21\u001b[0m         \u001b[0mclip\u001b[0m \u001b[0;34m=\u001b[0m \u001b[0mclip\u001b[0m\u001b[0;34m.\u001b[0m\u001b[0mto_RGB\u001b[0m\u001b[0;34m(\u001b[0m\u001b[0;34m)\u001b[0m\u001b[0;34m\u001b[0m\u001b[0m\n\u001b[0;32m---> 22\u001b[0;31m     \u001b[0;32mreturn\u001b[0m \u001b[0mf\u001b[0m\u001b[0;34m(\u001b[0m\u001b[0mclip\u001b[0m\u001b[0;34m,\u001b[0m \u001b[0;34m*\u001b[0m\u001b[0ma\u001b[0m\u001b[0;34m,\u001b[0m \u001b[0;34m**\u001b[0m\u001b[0mk\u001b[0m\u001b[0;34m)\u001b[0m\u001b[0;34m\u001b[0m\u001b[0m\n\u001b[0m\u001b[1;32m     23\u001b[0m \u001b[0;34m\u001b[0m\u001b[0m\n\u001b[1;32m     24\u001b[0m \u001b[0;34m@\u001b[0m\u001b[0mdecorator\u001b[0m\u001b[0;34m.\u001b[0m\u001b[0mdecorator\u001b[0m\u001b[0;34m\u001b[0m\u001b[0m\n",
      "\u001b[0;32m/Users/mayaesha/anaconda3/lib/python3.5/site-packages/moviepy/video/VideoClip.py\u001b[0m in \u001b[0;36mwrite_videofile\u001b[0;34m(self, filename, fps, codec, bitrate, audio, audio_fps, preset, audio_nbytes, audio_codec, audio_bitrate, audio_bufsize, temp_audiofile, rewrite_audio, remove_temp, write_logfile, verbose, threads, ffmpeg_params)\u001b[0m\n\u001b[1;32m    337\u001b[0m                            \u001b[0maudiofile\u001b[0m \u001b[0;34m=\u001b[0m \u001b[0maudiofile\u001b[0m\u001b[0;34m,\u001b[0m\u001b[0;34m\u001b[0m\u001b[0m\n\u001b[1;32m    338\u001b[0m                            \u001b[0mverbose\u001b[0m\u001b[0;34m=\u001b[0m\u001b[0mverbose\u001b[0m\u001b[0;34m,\u001b[0m \u001b[0mthreads\u001b[0m\u001b[0;34m=\u001b[0m\u001b[0mthreads\u001b[0m\u001b[0;34m,\u001b[0m\u001b[0;34m\u001b[0m\u001b[0m\n\u001b[0;32m--> 339\u001b[0;31m                            ffmpeg_params=ffmpeg_params)\n\u001b[0m\u001b[1;32m    340\u001b[0m \u001b[0;34m\u001b[0m\u001b[0m\n\u001b[1;32m    341\u001b[0m         \u001b[0;32mif\u001b[0m \u001b[0mremove_temp\u001b[0m \u001b[0;32mand\u001b[0m \u001b[0mmake_audio\u001b[0m\u001b[0;34m:\u001b[0m\u001b[0;34m\u001b[0m\u001b[0m\n",
      "\u001b[0;32m/Users/mayaesha/anaconda3/lib/python3.5/site-packages/moviepy/video/io/ffmpeg_writer.py\u001b[0m in \u001b[0;36mffmpeg_write_video\u001b[0;34m(clip, filename, fps, codec, bitrate, preset, withmask, write_logfile, audiofile, verbose, threads, ffmpeg_params)\u001b[0m\n\u001b[1;32m    202\u001b[0m \u001b[0;34m\u001b[0m\u001b[0m\n\u001b[1;32m    203\u001b[0m     for t,frame in clip.iter_frames(progress_bar=True, with_times=True,\n\u001b[0;32m--> 204\u001b[0;31m                                     fps=fps, dtype=\"uint8\"):\n\u001b[0m\u001b[1;32m    205\u001b[0m         \u001b[0;32mif\u001b[0m \u001b[0mwithmask\u001b[0m\u001b[0;34m:\u001b[0m\u001b[0;34m\u001b[0m\u001b[0m\n\u001b[1;32m    206\u001b[0m             \u001b[0mmask\u001b[0m \u001b[0;34m=\u001b[0m \u001b[0;34m(\u001b[0m\u001b[0;36m255\u001b[0m\u001b[0;34m*\u001b[0m\u001b[0mclip\u001b[0m\u001b[0;34m.\u001b[0m\u001b[0mmask\u001b[0m\u001b[0;34m.\u001b[0m\u001b[0mget_frame\u001b[0m\u001b[0;34m(\u001b[0m\u001b[0mt\u001b[0m\u001b[0;34m)\u001b[0m\u001b[0;34m)\u001b[0m\u001b[0;34m\u001b[0m\u001b[0m\n",
      "\u001b[0;32m/Users/mayaesha/anaconda3/lib/python3.5/site-packages/tqdm/_tqdm.py\u001b[0m in \u001b[0;36m__iter__\u001b[0;34m(self)\u001b[0m\n\u001b[1;32m    814\u001b[0m \"\"\", fp_write=getattr(self.fp, 'write', sys.stderr.write))\n\u001b[1;32m    815\u001b[0m \u001b[0;34m\u001b[0m\u001b[0m\n\u001b[0;32m--> 816\u001b[0;31m             \u001b[0;32mfor\u001b[0m \u001b[0mobj\u001b[0m \u001b[0;32min\u001b[0m \u001b[0miterable\u001b[0m\u001b[0;34m:\u001b[0m\u001b[0;34m\u001b[0m\u001b[0m\n\u001b[0m\u001b[1;32m    817\u001b[0m                 \u001b[0;32myield\u001b[0m \u001b[0mobj\u001b[0m\u001b[0;34m\u001b[0m\u001b[0m\n\u001b[1;32m    818\u001b[0m                 \u001b[0;31m# Update and print the progressbar.\u001b[0m\u001b[0;34m\u001b[0m\u001b[0;34m\u001b[0m\u001b[0m\n",
      "\u001b[0;32m/Users/mayaesha/anaconda3/lib/python3.5/site-packages/moviepy/Clip.py\u001b[0m in \u001b[0;36mgenerator\u001b[0;34m()\u001b[0m\n\u001b[1;32m    471\u001b[0m             \u001b[0;32mfor\u001b[0m \u001b[0mt\u001b[0m \u001b[0;32min\u001b[0m \u001b[0mnp\u001b[0m\u001b[0;34m.\u001b[0m\u001b[0marange\u001b[0m\u001b[0;34m(\u001b[0m\u001b[0;36m0\u001b[0m\u001b[0;34m,\u001b[0m \u001b[0mself\u001b[0m\u001b[0;34m.\u001b[0m\u001b[0mduration\u001b[0m\u001b[0;34m,\u001b[0m \u001b[0;36m1.0\u001b[0m\u001b[0;34m/\u001b[0m\u001b[0mfps\u001b[0m\u001b[0;34m)\u001b[0m\u001b[0;34m:\u001b[0m\u001b[0;34m\u001b[0m\u001b[0m\n\u001b[1;32m    472\u001b[0m \u001b[0;34m\u001b[0m\u001b[0m\n\u001b[0;32m--> 473\u001b[0;31m                 \u001b[0mframe\u001b[0m \u001b[0;34m=\u001b[0m \u001b[0mself\u001b[0m\u001b[0;34m.\u001b[0m\u001b[0mget_frame\u001b[0m\u001b[0;34m(\u001b[0m\u001b[0mt\u001b[0m\u001b[0;34m)\u001b[0m\u001b[0;34m\u001b[0m\u001b[0m\n\u001b[0m\u001b[1;32m    474\u001b[0m \u001b[0;34m\u001b[0m\u001b[0m\n\u001b[1;32m    475\u001b[0m                 \u001b[0;32mif\u001b[0m \u001b[0;34m(\u001b[0m\u001b[0mdtype\u001b[0m \u001b[0;32mis\u001b[0m \u001b[0;32mnot\u001b[0m \u001b[0;32mNone\u001b[0m\u001b[0;34m)\u001b[0m \u001b[0;32mand\u001b[0m \u001b[0;34m(\u001b[0m\u001b[0mframe\u001b[0m\u001b[0;34m.\u001b[0m\u001b[0mdtype\u001b[0m \u001b[0;34m!=\u001b[0m \u001b[0mdtype\u001b[0m\u001b[0;34m)\u001b[0m\u001b[0;34m:\u001b[0m\u001b[0;34m\u001b[0m\u001b[0m\n",
      "\u001b[0;32m<decorator-gen-135>\u001b[0m in \u001b[0;36mget_frame\u001b[0;34m(self, t)\u001b[0m\n",
      "\u001b[0;32m/Users/mayaesha/anaconda3/lib/python3.5/site-packages/moviepy/decorators.py\u001b[0m in \u001b[0;36mwrapper\u001b[0;34m(f, *a, **kw)\u001b[0m\n\u001b[1;32m     87\u001b[0m         new_kw = {k: fun(v) if k in varnames else v\n\u001b[1;32m     88\u001b[0m                  for (k,v) in kw.items()}\n\u001b[0;32m---> 89\u001b[0;31m         \u001b[0;32mreturn\u001b[0m \u001b[0mf\u001b[0m\u001b[0;34m(\u001b[0m\u001b[0;34m*\u001b[0m\u001b[0mnew_a\u001b[0m\u001b[0;34m,\u001b[0m \u001b[0;34m**\u001b[0m\u001b[0mnew_kw\u001b[0m\u001b[0;34m)\u001b[0m\u001b[0;34m\u001b[0m\u001b[0m\n\u001b[0m\u001b[1;32m     90\u001b[0m     \u001b[0;32mreturn\u001b[0m \u001b[0mdecorator\u001b[0m\u001b[0;34m.\u001b[0m\u001b[0mdecorator\u001b[0m\u001b[0;34m(\u001b[0m\u001b[0mwrapper\u001b[0m\u001b[0;34m)\u001b[0m\u001b[0;34m\u001b[0m\u001b[0m\n\u001b[1;32m     91\u001b[0m \u001b[0;34m\u001b[0m\u001b[0m\n",
      "\u001b[0;32m/Users/mayaesha/anaconda3/lib/python3.5/site-packages/moviepy/Clip.py\u001b[0m in \u001b[0;36mget_frame\u001b[0;34m(self, t)\u001b[0m\n\u001b[1;32m     93\u001b[0m                 \u001b[0;32mreturn\u001b[0m \u001b[0mframe\u001b[0m\u001b[0;34m\u001b[0m\u001b[0m\n\u001b[1;32m     94\u001b[0m         \u001b[0;32melse\u001b[0m\u001b[0;34m:\u001b[0m\u001b[0;34m\u001b[0m\u001b[0m\n\u001b[0;32m---> 95\u001b[0;31m             \u001b[0;32mreturn\u001b[0m \u001b[0mself\u001b[0m\u001b[0;34m.\u001b[0m\u001b[0mmake_frame\u001b[0m\u001b[0;34m(\u001b[0m\u001b[0mt\u001b[0m\u001b[0;34m)\u001b[0m\u001b[0;34m\u001b[0m\u001b[0m\n\u001b[0m\u001b[1;32m     96\u001b[0m \u001b[0;34m\u001b[0m\u001b[0m\n\u001b[1;32m     97\u001b[0m     \u001b[0;32mdef\u001b[0m \u001b[0mfl\u001b[0m\u001b[0;34m(\u001b[0m\u001b[0mself\u001b[0m\u001b[0;34m,\u001b[0m \u001b[0mfun\u001b[0m\u001b[0;34m,\u001b[0m \u001b[0mapply_to\u001b[0m\u001b[0;34m=\u001b[0m\u001b[0;34m[\u001b[0m\u001b[0;34m]\u001b[0m \u001b[0;34m,\u001b[0m \u001b[0mkeep_duration\u001b[0m\u001b[0;34m=\u001b[0m\u001b[0;32mTrue\u001b[0m\u001b[0;34m)\u001b[0m\u001b[0;34m:\u001b[0m\u001b[0;34m\u001b[0m\u001b[0m\n",
      "\u001b[0;32m/Users/mayaesha/anaconda3/lib/python3.5/site-packages/moviepy/Clip.py\u001b[0m in \u001b[0;36m<lambda>\u001b[0;34m(t)\u001b[0m\n\u001b[1;32m    134\u001b[0m \u001b[0;34m\u001b[0m\u001b[0m\n\u001b[1;32m    135\u001b[0m         \u001b[0;31m#mf = copy(self.make_frame)\u001b[0m\u001b[0;34m\u001b[0m\u001b[0;34m\u001b[0m\u001b[0m\n\u001b[0;32m--> 136\u001b[0;31m         \u001b[0mnewclip\u001b[0m \u001b[0;34m=\u001b[0m \u001b[0mself\u001b[0m\u001b[0;34m.\u001b[0m\u001b[0mset_make_frame\u001b[0m\u001b[0;34m(\u001b[0m\u001b[0;32mlambda\u001b[0m \u001b[0mt\u001b[0m\u001b[0;34m:\u001b[0m \u001b[0mfun\u001b[0m\u001b[0;34m(\u001b[0m\u001b[0mself\u001b[0m\u001b[0;34m.\u001b[0m\u001b[0mget_frame\u001b[0m\u001b[0;34m,\u001b[0m \u001b[0mt\u001b[0m\u001b[0;34m)\u001b[0m\u001b[0;34m)\u001b[0m\u001b[0;34m\u001b[0m\u001b[0m\n\u001b[0m\u001b[1;32m    137\u001b[0m \u001b[0;34m\u001b[0m\u001b[0m\n\u001b[1;32m    138\u001b[0m         \u001b[0;32mif\u001b[0m \u001b[0;32mnot\u001b[0m \u001b[0mkeep_duration\u001b[0m\u001b[0;34m:\u001b[0m\u001b[0;34m\u001b[0m\u001b[0m\n",
      "\u001b[0;32m/Users/mayaesha/anaconda3/lib/python3.5/site-packages/moviepy/video/VideoClip.py\u001b[0m in \u001b[0;36m<lambda>\u001b[0;34m(gf, t)\u001b[0m\n\u001b[1;32m    512\u001b[0m         \u001b[0;31m`\u001b[0m\u001b[0mget_frame\u001b[0m\u001b[0;34m(\u001b[0m\u001b[0mt\u001b[0m\u001b[0;34m)\u001b[0m\u001b[0;31m`\u001b[0m \u001b[0mby\u001b[0m \u001b[0manother\u001b[0m \u001b[0mframe\u001b[0m\u001b[0;34m,\u001b[0m\u001b[0;31m \u001b[0m\u001b[0;31m \u001b[0m\u001b[0;31m`\u001b[0m\u001b[0mimage_func\u001b[0m\u001b[0;34m(\u001b[0m\u001b[0mget_frame\u001b[0m\u001b[0;34m(\u001b[0m\u001b[0mt\u001b[0m\u001b[0;34m)\u001b[0m\u001b[0;34m)\u001b[0m\u001b[0;31m`\u001b[0m\u001b[0;34m\u001b[0m\u001b[0m\n\u001b[1;32m    513\u001b[0m         \"\"\"\n\u001b[0;32m--> 514\u001b[0;31m         \u001b[0;32mreturn\u001b[0m \u001b[0mself\u001b[0m\u001b[0;34m.\u001b[0m\u001b[0mfl\u001b[0m\u001b[0;34m(\u001b[0m\u001b[0;32mlambda\u001b[0m \u001b[0mgf\u001b[0m\u001b[0;34m,\u001b[0m \u001b[0mt\u001b[0m\u001b[0;34m:\u001b[0m \u001b[0mimage_func\u001b[0m\u001b[0;34m(\u001b[0m\u001b[0mgf\u001b[0m\u001b[0;34m(\u001b[0m\u001b[0mt\u001b[0m\u001b[0;34m)\u001b[0m\u001b[0;34m)\u001b[0m\u001b[0;34m,\u001b[0m \u001b[0mapply_to\u001b[0m\u001b[0;34m)\u001b[0m\u001b[0;34m\u001b[0m\u001b[0m\n\u001b[0m\u001b[1;32m    515\u001b[0m \u001b[0;34m\u001b[0m\u001b[0m\n\u001b[1;32m    516\u001b[0m     \u001b[0;31m# --------------------------------------------------------------\u001b[0m\u001b[0;34m\u001b[0m\u001b[0;34m\u001b[0m\u001b[0m\n",
      "\u001b[0;32m<ipython-input-6-934b54387c95>\u001b[0m in \u001b[0;36mprocess_image\u001b[0;34m(image)\u001b[0m\n\u001b[1;32m     15\u001b[0m     \u001b[0mvertices\u001b[0m \u001b[0;34m=\u001b[0m \u001b[0mnp\u001b[0m\u001b[0;34m.\u001b[0m\u001b[0marray\u001b[0m\u001b[0;34m(\u001b[0m\u001b[0;34m[\u001b[0m\u001b[0;34m[\u001b[0m\u001b[0;34m(\u001b[0m\u001b[0;36m140\u001b[0m\u001b[0;34m,\u001b[0m\u001b[0mimshape\u001b[0m\u001b[0;34m[\u001b[0m\u001b[0;36m0\u001b[0m\u001b[0;34m]\u001b[0m\u001b[0;34m)\u001b[0m\u001b[0;34m,\u001b[0m\u001b[0;34m(\u001b[0m\u001b[0;36m480\u001b[0m\u001b[0;34m,\u001b[0m \u001b[0;36m300\u001b[0m\u001b[0;34m)\u001b[0m\u001b[0;34m,\u001b[0m \u001b[0;34m(\u001b[0m\u001b[0;36m490\u001b[0m\u001b[0;34m,\u001b[0m \u001b[0;36m300\u001b[0m\u001b[0;34m)\u001b[0m\u001b[0;34m,\u001b[0m \u001b[0;34m(\u001b[0m\u001b[0;36m890\u001b[0m\u001b[0;34m,\u001b[0m\u001b[0mimshape\u001b[0m\u001b[0;34m[\u001b[0m\u001b[0;36m0\u001b[0m\u001b[0;34m]\u001b[0m\u001b[0;34m)\u001b[0m\u001b[0;34m]\u001b[0m\u001b[0;34m]\u001b[0m\u001b[0;34m,\u001b[0m \u001b[0mdtype\u001b[0m\u001b[0;34m=\u001b[0m\u001b[0mnp\u001b[0m\u001b[0;34m.\u001b[0m\u001b[0mint32\u001b[0m\u001b[0;34m)\u001b[0m\u001b[0;34m\u001b[0m\u001b[0m\n\u001b[1;32m     16\u001b[0m     \u001b[0mmasked_edges\u001b[0m \u001b[0;34m=\u001b[0m \u001b[0mregion_of_interest\u001b[0m\u001b[0;34m(\u001b[0m\u001b[0medges\u001b[0m\u001b[0;34m,\u001b[0m \u001b[0mvertices\u001b[0m\u001b[0;34m)\u001b[0m\u001b[0;34m\u001b[0m\u001b[0m\n\u001b[0;32m---> 17\u001b[0;31m     \u001b[0mlines_edges\u001b[0m \u001b[0;34m=\u001b[0m \u001b[0mhough_lines\u001b[0m\u001b[0;34m(\u001b[0m\u001b[0mmasked_edges\u001b[0m\u001b[0;34m,\u001b[0m \u001b[0mrho\u001b[0m\u001b[0;34m=\u001b[0m\u001b[0;36m1\u001b[0m\u001b[0;34m,\u001b[0m \u001b[0mtheta\u001b[0m\u001b[0;34m=\u001b[0m\u001b[0mnp\u001b[0m\u001b[0;34m.\u001b[0m\u001b[0mpi\u001b[0m\u001b[0;34m/\u001b[0m\u001b[0;36m180\u001b[0m\u001b[0;34m,\u001b[0m \u001b[0mthreshold\u001b[0m\u001b[0;34m=\u001b[0m\u001b[0;36m1\u001b[0m\u001b[0;34m,\u001b[0m \u001b[0mmin_line_len\u001b[0m\u001b[0;34m=\u001b[0m\u001b[0;36m5\u001b[0m\u001b[0;34m,\u001b[0m \u001b[0mmax_line_gap\u001b[0m\u001b[0;34m=\u001b[0m\u001b[0;36m1\u001b[0m\u001b[0;34m)\u001b[0m\u001b[0;34m\u001b[0m\u001b[0m\n\u001b[0m\u001b[1;32m     18\u001b[0m \u001b[0;34m\u001b[0m\u001b[0m\n\u001b[1;32m     19\u001b[0m     \u001b[0mresult\u001b[0m \u001b[0;34m=\u001b[0m \u001b[0mweighted_img\u001b[0m\u001b[0;34m(\u001b[0m\u001b[0mimg\u001b[0m\u001b[0;34m=\u001b[0m\u001b[0mlines_edges\u001b[0m\u001b[0;34m,\u001b[0m \u001b[0minitial_img\u001b[0m\u001b[0;34m=\u001b[0m\u001b[0mimage\u001b[0m\u001b[0;34m,\u001b[0m \u001b[0mα\u001b[0m\u001b[0;34m=\u001b[0m\u001b[0;36m1\u001b[0m\u001b[0;34m,\u001b[0m \u001b[0mβ\u001b[0m\u001b[0;34m=\u001b[0m\u001b[0;36m100.\u001b[0m\u001b[0;34m,\u001b[0m \u001b[0mλ\u001b[0m\u001b[0;34m=\u001b[0m\u001b[0;36m0.\u001b[0m\u001b[0;34m)\u001b[0m\u001b[0;34m\u001b[0m\u001b[0m\n",
      "\u001b[0;32m<ipython-input-2-c26776d98f6b>\u001b[0m in \u001b[0;36mhough_lines\u001b[0;34m(img, rho, theta, threshold, min_line_len, max_line_gap)\u001b[0m\n\u001b[1;32m    134\u001b[0m     \u001b[0mlines\u001b[0m \u001b[0;34m=\u001b[0m \u001b[0mcv2\u001b[0m\u001b[0;34m.\u001b[0m\u001b[0mHoughLinesP\u001b[0m\u001b[0;34m(\u001b[0m\u001b[0mimg\u001b[0m\u001b[0;34m,\u001b[0m \u001b[0mrho\u001b[0m\u001b[0;34m,\u001b[0m \u001b[0mtheta\u001b[0m\u001b[0;34m,\u001b[0m \u001b[0mthreshold\u001b[0m\u001b[0;34m,\u001b[0m \u001b[0mnp\u001b[0m\u001b[0;34m.\u001b[0m\u001b[0marray\u001b[0m\u001b[0;34m(\u001b[0m\u001b[0;34m[\u001b[0m\u001b[0;34m]\u001b[0m\u001b[0;34m)\u001b[0m\u001b[0;34m,\u001b[0m \u001b[0mminLineLength\u001b[0m\u001b[0;34m=\u001b[0m\u001b[0mmin_line_len\u001b[0m\u001b[0;34m,\u001b[0m \u001b[0mmaxLineGap\u001b[0m\u001b[0;34m=\u001b[0m\u001b[0mmax_line_gap\u001b[0m\u001b[0;34m)\u001b[0m\u001b[0;34m\u001b[0m\u001b[0m\n\u001b[1;32m    135\u001b[0m     \u001b[0mline_img\u001b[0m \u001b[0;34m=\u001b[0m \u001b[0mnp\u001b[0m\u001b[0;34m.\u001b[0m\u001b[0mzeros\u001b[0m\u001b[0;34m(\u001b[0m\u001b[0;34m(\u001b[0m\u001b[0mimg\u001b[0m\u001b[0;34m.\u001b[0m\u001b[0mshape\u001b[0m\u001b[0;34m[\u001b[0m\u001b[0;36m0\u001b[0m\u001b[0;34m]\u001b[0m\u001b[0;34m,\u001b[0m \u001b[0mimg\u001b[0m\u001b[0;34m.\u001b[0m\u001b[0mshape\u001b[0m\u001b[0;34m[\u001b[0m\u001b[0;36m1\u001b[0m\u001b[0;34m]\u001b[0m\u001b[0;34m,\u001b[0m \u001b[0;36m3\u001b[0m\u001b[0;34m)\u001b[0m\u001b[0;34m,\u001b[0m \u001b[0mdtype\u001b[0m\u001b[0;34m=\u001b[0m\u001b[0mnp\u001b[0m\u001b[0;34m.\u001b[0m\u001b[0muint8\u001b[0m\u001b[0;34m)\u001b[0m\u001b[0;34m\u001b[0m\u001b[0m\n\u001b[0;32m--> 136\u001b[0;31m     \u001b[0mdraw_lines\u001b[0m\u001b[0;34m(\u001b[0m\u001b[0mline_img\u001b[0m\u001b[0;34m,\u001b[0m \u001b[0mlines\u001b[0m\u001b[0;34m)\u001b[0m\u001b[0;34m\u001b[0m\u001b[0m\n\u001b[0m\u001b[1;32m    137\u001b[0m     \u001b[0;32mreturn\u001b[0m \u001b[0mline_img\u001b[0m\u001b[0;34m\u001b[0m\u001b[0m\n\u001b[1;32m    138\u001b[0m \u001b[0;34m\u001b[0m\u001b[0m\n",
      "\u001b[0;32m<ipython-input-2-c26776d98f6b>\u001b[0m in \u001b[0;36mdraw_lines\u001b[0;34m(img, lines, color, thickness)\u001b[0m\n\u001b[1;32m     94\u001b[0m                 \u001b[0mlSlope\u001b[0m \u001b[0;34m+=\u001b[0m \u001b[0mslope\u001b[0m\u001b[0;34m\u001b[0m\u001b[0m\n\u001b[1;32m     95\u001b[0m \u001b[0;34m\u001b[0m\u001b[0m\n\u001b[0;32m---> 96\u001b[0;31m     \u001b[0mrX1\u001b[0m \u001b[0;34m=\u001b[0m \u001b[0mint\u001b[0m\u001b[0;34m(\u001b[0m\u001b[0mrX1\u001b[0m\u001b[0;34m/\u001b[0m\u001b[0mrCount\u001b[0m\u001b[0;34m)\u001b[0m\u001b[0;34m\u001b[0m\u001b[0m\n\u001b[0m\u001b[1;32m     97\u001b[0m     \u001b[0mrY1\u001b[0m \u001b[0;34m=\u001b[0m \u001b[0mint\u001b[0m\u001b[0;34m(\u001b[0m\u001b[0mrY1\u001b[0m\u001b[0;34m/\u001b[0m\u001b[0mrCount\u001b[0m\u001b[0;34m)\u001b[0m\u001b[0;34m\u001b[0m\u001b[0m\n\u001b[1;32m     98\u001b[0m     \u001b[0mrX2\u001b[0m \u001b[0;34m=\u001b[0m \u001b[0mint\u001b[0m\u001b[0;34m(\u001b[0m\u001b[0mrX2\u001b[0m\u001b[0;34m/\u001b[0m\u001b[0mrCount\u001b[0m\u001b[0;34m)\u001b[0m\u001b[0;34m\u001b[0m\u001b[0m\n",
      "\u001b[0;31mZeroDivisionError\u001b[0m: division by zero"
     ]
    }
   ],
   "source": [
    "challenge_output = 'extra.mp4'\n",
    "clip2 = VideoFileClip('challenge.mp4')\n",
    "challenge_clip = clip2.fl_image(process_image)\n",
    "%time challenge_clip.write_videofile(challenge_output, audio=False)"
   ]
  },
  {
   "cell_type": "code",
   "execution_count": null,
   "metadata": {
    "collapsed": false
   },
   "outputs": [],
   "source": [
    "HTML(\"\"\"\n",
    "<video width=\"960\" height=\"540\" controls>\n",
    "  <source src=\"{0}\">\n",
    "</video>\n",
    "\"\"\".format(challenge_output))"
   ]
  },
  {
   "cell_type": "code",
   "execution_count": null,
   "metadata": {
    "collapsed": true
   },
   "outputs": [],
   "source": []
  }
 ],
 "metadata": {
  "anaconda-cloud": {},
  "kernelspec": {
   "display_name": "Python [conda root]",
   "language": "python",
   "name": "conda-root-py"
  },
  "language_info": {
   "codemirror_mode": {
    "name": "ipython",
    "version": 3
   },
   "file_extension": ".py",
   "mimetype": "text/x-python",
   "name": "python",
   "nbconvert_exporter": "python",
   "pygments_lexer": "ipython3",
   "version": "3.5.2"
  }
 },
 "nbformat": 4,
 "nbformat_minor": 0
}
